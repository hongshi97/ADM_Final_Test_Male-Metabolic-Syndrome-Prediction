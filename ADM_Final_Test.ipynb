{
  "nbformat": 4,
  "nbformat_minor": 0,
  "metadata": {
    "colab": {
      "name": "ADM_Final_Test.ipynb",
      "provenance": [],
      "collapsed_sections": [
        "upkResbfx3iZ",
        "XzkjfkGsz2Rg"
      ]
    },
    "kernelspec": {
      "name": "python3",
      "display_name": "Python 3"
    },
    "accelerator": "GPU"
  },
  "cells": [
    {
      "cell_type": "markdown",
      "metadata": {
        "id": "upkResbfx3iZ"
      },
      "source": [
        "# 데이터 불러오기"
      ]
    },
    {
      "cell_type": "code",
      "metadata": {
        "id": "g-A7VHDIxxI-"
      },
      "source": [
        "# 탐색적 분석 준비\r\n",
        "import numpy as np\r\n",
        "import pandas as pd\r\n",
        "import matplotlib.pyplot as plt\r\n",
        "import seaborn as sns"
      ],
      "execution_count": 44,
      "outputs": []
    },
    {
      "cell_type": "code",
      "metadata": {
        "id": "DDE2-Koax_3i",
        "colab": {
          "base_uri": "https://localhost:8080/"
        },
        "outputId": "fedaf9c5-6ad1-421f-c2b4-112266b9b094"
      },
      "source": [
        "df_og = pd.read_csv(\"/content/Dataset csv file.csv\")"
      ],
      "execution_count": 45,
      "outputs": [
        {
          "output_type": "stream",
          "text": [
            "/usr/local/lib/python3.6/dist-packages/IPython/core/interactiveshell.py:2718: DtypeWarning: Columns (208,219,293,294,300,332,345,366,455,461,496,586,643,678) have mixed types.Specify dtype option on import or set low_memory=False.\n",
            "  interactivity=interactivity, compiler=compiler, result=result)\n"
          ],
          "name": "stderr"
        }
      ]
    },
    {
      "cell_type": "code",
      "metadata": {
        "id": "jG5-uiAlyIPo"
      },
      "source": [
        "# 분석용 데이터셋 복사\r\n",
        "df = df_og.copy()"
      ],
      "execution_count": 46,
      "outputs": []
    },
    {
      "cell_type": "code",
      "metadata": {
        "id": "b86Gc-_ecgmQ"
      },
      "source": [
        "df = df.loc[df['sex'] == 1] # 남자 데이터 생성"
      ],
      "execution_count": 47,
      "outputs": []
    },
    {
      "cell_type": "code",
      "metadata": {
        "colab": {
          "base_uri": "https://localhost:8080/"
        },
        "id": "F_0308SDdWDu",
        "outputId": "9d683d97-eb88-415e-b60e-85879dfe528a"
      },
      "source": [
        "df.sex.value_counts()"
      ],
      "execution_count": 48,
      "outputs": [
        {
          "output_type": "execute_result",
          "data": {
            "text/plain": [
              "1    3665\n",
              "Name: sex, dtype: int64"
            ]
          },
          "metadata": {
            "tags": []
          },
          "execution_count": 48
        }
      ]
    },
    {
      "cell_type": "code",
      "metadata": {
        "colab": {
          "base_uri": "https://localhost:8080/",
          "height": 0
        },
        "id": "KGQyOf0pc45y",
        "outputId": "cdf9c72e-c303-4c22-e975-67b45513e024"
      },
      "source": [
        "df.head()"
      ],
      "execution_count": 49,
      "outputs": [
        {
          "output_type": "execute_result",
          "data": {
            "text/html": [
              "<div>\n",
              "<style scoped>\n",
              "    .dataframe tbody tr th:only-of-type {\n",
              "        vertical-align: middle;\n",
              "    }\n",
              "\n",
              "    .dataframe tbody tr th {\n",
              "        vertical-align: top;\n",
              "    }\n",
              "\n",
              "    .dataframe thead th {\n",
              "        text-align: right;\n",
              "    }\n",
              "</style>\n",
              "<table border=\"1\" class=\"dataframe\">\n",
              "  <thead>\n",
              "    <tr style=\"text-align: right;\">\n",
              "      <th></th>\n",
              "      <th>mod_d</th>\n",
              "      <th>ID</th>\n",
              "      <th>ID_fam</th>\n",
              "      <th>year</th>\n",
              "      <th>region</th>\n",
              "      <th>town_t</th>\n",
              "      <th>apt_t</th>\n",
              "      <th>psu</th>\n",
              "      <th>sex</th>\n",
              "      <th>age</th>\n",
              "      <th>age_month</th>\n",
              "      <th>incm</th>\n",
              "      <th>ho_incm</th>\n",
              "      <th>incm5</th>\n",
              "      <th>ho_incm5</th>\n",
              "      <th>edu</th>\n",
              "      <th>occp</th>\n",
              "      <th>wt_hs</th>\n",
              "      <th>wt_itvex</th>\n",
              "      <th>wt_pft</th>\n",
              "      <th>wt_hm</th>\n",
              "      <th>wt_ntr</th>\n",
              "      <th>wt_tot</th>\n",
              "      <th>wt_pfhm</th>\n",
              "      <th>wt_pfnt</th>\n",
              "      <th>wt_hmnt</th>\n",
              "      <th>wt_pfhmnt</th>\n",
              "      <th>wt_nn</th>\n",
              "      <th>wt_nnnt</th>\n",
              "      <th>wt_vt</th>\n",
              "      <th>wt_pfvt</th>\n",
              "      <th>wt_vtnt</th>\n",
              "      <th>wt_pfvtnt</th>\n",
              "      <th>kstrata</th>\n",
              "      <th>cfam</th>\n",
              "      <th>genertn</th>\n",
              "      <th>allownc</th>\n",
              "      <th>house</th>\n",
              "      <th>live_t</th>\n",
              "      <th>ainc_unit1</th>\n",
              "      <th>...</th>\n",
              "      <th>N_SFA</th>\n",
              "      <th>N_MUFA</th>\n",
              "      <th>N_PUFA</th>\n",
              "      <th>N_N3</th>\n",
              "      <th>N_N6</th>\n",
              "      <th>N_CHOL</th>\n",
              "      <th>N_CHO</th>\n",
              "      <th>N_TDF</th>\n",
              "      <th>N_SUGAR</th>\n",
              "      <th>N_CA</th>\n",
              "      <th>N_PHOS</th>\n",
              "      <th>N_FE</th>\n",
              "      <th>N_NA</th>\n",
              "      <th>N_K</th>\n",
              "      <th>N_VA</th>\n",
              "      <th>N_VA_RAE</th>\n",
              "      <th>N_CAROT</th>\n",
              "      <th>N_RETIN</th>\n",
              "      <th>N_B1</th>\n",
              "      <th>N_B2</th>\n",
              "      <th>N_NIAC</th>\n",
              "      <th>N_VITC</th>\n",
              "      <th>LF_secur_y</th>\n",
              "      <th>LF_BUYER</th>\n",
              "      <th>LF_SAFE</th>\n",
              "      <th>HEI</th>\n",
              "      <th>HEI_BR</th>\n",
              "      <th>HEI_CEREAL</th>\n",
              "      <th>HEI_TFRUIT</th>\n",
              "      <th>HEI_FFRUIT</th>\n",
              "      <th>HEI_TVEG</th>\n",
              "      <th>HEI_VEG</th>\n",
              "      <th>HEI_PROTF</th>\n",
              "      <th>HEI_DAIRY</th>\n",
              "      <th>HEI_SFA</th>\n",
              "      <th>HEI_NA</th>\n",
              "      <th>HEI_SWEET</th>\n",
              "      <th>HEI_CHO</th>\n",
              "      <th>HEI_FAT</th>\n",
              "      <th>HEI_EN</th>\n",
              "    </tr>\n",
              "  </thead>\n",
              "  <tbody>\n",
              "    <tr>\n",
              "      <th>0</th>\n",
              "      <td>2020.09.01.</td>\n",
              "      <td>A651172801</td>\n",
              "      <td>A6511728</td>\n",
              "      <td>2016</td>\n",
              "      <td>1</td>\n",
              "      <td>1</td>\n",
              "      <td>2</td>\n",
              "      <td>A651</td>\n",
              "      <td>1</td>\n",
              "      <td>61</td>\n",
              "      <td>NaN</td>\n",
              "      <td>3.0</td>\n",
              "      <td>3.0</td>\n",
              "      <td>4.0</td>\n",
              "      <td>4.0</td>\n",
              "      <td>4.0</td>\n",
              "      <td>7.0</td>\n",
              "      <td>3981.18</td>\n",
              "      <td>7446.34</td>\n",
              "      <td>4581.62</td>\n",
              "      <td>NaN</td>\n",
              "      <td>8321.14</td>\n",
              "      <td>5477.99</td>\n",
              "      <td>NaN</td>\n",
              "      <td>5070.82</td>\n",
              "      <td>NaN</td>\n",
              "      <td>NaN</td>\n",
              "      <td>9283.96</td>\n",
              "      <td>10630.31</td>\n",
              "      <td>7118.830320</td>\n",
              "      <td>7575.330809</td>\n",
              "      <td>7950.393687</td>\n",
              "      <td>8660.008423</td>\n",
              "      <td>701</td>\n",
              "      <td>3</td>\n",
              "      <td>4</td>\n",
              "      <td>20</td>\n",
              "      <td>2</td>\n",
              "      <td>2</td>\n",
              "      <td>2</td>\n",
              "      <td>...</td>\n",
              "      <td>23.54</td>\n",
              "      <td>32.30</td>\n",
              "      <td>20.99</td>\n",
              "      <td>3.02</td>\n",
              "      <td>17.91</td>\n",
              "      <td>114.80</td>\n",
              "      <td>407.09</td>\n",
              "      <td>52.22</td>\n",
              "      <td>180.06</td>\n",
              "      <td>372.64</td>\n",
              "      <td>1107.28</td>\n",
              "      <td>15.29</td>\n",
              "      <td>2437.96</td>\n",
              "      <td>4294.23</td>\n",
              "      <td>188.66</td>\n",
              "      <td>94.33</td>\n",
              "      <td>1131.95</td>\n",
              "      <td>0.00</td>\n",
              "      <td>0.72</td>\n",
              "      <td>1.99</td>\n",
              "      <td>14.40</td>\n",
              "      <td>86.65</td>\n",
              "      <td>1.0</td>\n",
              "      <td>1.0</td>\n",
              "      <td>1.0</td>\n",
              "      <td>74.18</td>\n",
              "      <td>10.0</td>\n",
              "      <td>0.29</td>\n",
              "      <td>5.0</td>\n",
              "      <td>5.0</td>\n",
              "      <td>1.28</td>\n",
              "      <td>1.45</td>\n",
              "      <td>10.0</td>\n",
              "      <td>0.0</td>\n",
              "      <td>7.14</td>\n",
              "      <td>9.03</td>\n",
              "      <td>10.00</td>\n",
              "      <td>5.0</td>\n",
              "      <td>5.0</td>\n",
              "      <td>5.00</td>\n",
              "    </tr>\n",
              "    <tr>\n",
              "      <th>3</th>\n",
              "      <td>2020.09.01.</td>\n",
              "      <td>A651183002</td>\n",
              "      <td>A6511830</td>\n",
              "      <td>2016</td>\n",
              "      <td>1</td>\n",
              "      <td>1</td>\n",
              "      <td>2</td>\n",
              "      <td>A651</td>\n",
              "      <td>1</td>\n",
              "      <td>39</td>\n",
              "      <td>NaN</td>\n",
              "      <td>3.0</td>\n",
              "      <td>3.0</td>\n",
              "      <td>4.0</td>\n",
              "      <td>4.0</td>\n",
              "      <td>4.0</td>\n",
              "      <td>3.0</td>\n",
              "      <td>3981.18</td>\n",
              "      <td>7890.77</td>\n",
              "      <td>NaN</td>\n",
              "      <td>29458.66</td>\n",
              "      <td>NaN</td>\n",
              "      <td>NaN</td>\n",
              "      <td>NaN</td>\n",
              "      <td>NaN</td>\n",
              "      <td>NaN</td>\n",
              "      <td>NaN</td>\n",
              "      <td>NaN</td>\n",
              "      <td>NaN</td>\n",
              "      <td>NaN</td>\n",
              "      <td>NaN</td>\n",
              "      <td>NaN</td>\n",
              "      <td>NaN</td>\n",
              "      <td>701</td>\n",
              "      <td>5</td>\n",
              "      <td>6</td>\n",
              "      <td>20</td>\n",
              "      <td>3</td>\n",
              "      <td>2</td>\n",
              "      <td>2</td>\n",
              "      <td>...</td>\n",
              "      <td>NaN</td>\n",
              "      <td>NaN</td>\n",
              "      <td>NaN</td>\n",
              "      <td>NaN</td>\n",
              "      <td>NaN</td>\n",
              "      <td>NaN</td>\n",
              "      <td>NaN</td>\n",
              "      <td>NaN</td>\n",
              "      <td>NaN</td>\n",
              "      <td>NaN</td>\n",
              "      <td>NaN</td>\n",
              "      <td>NaN</td>\n",
              "      <td>NaN</td>\n",
              "      <td>NaN</td>\n",
              "      <td>NaN</td>\n",
              "      <td>NaN</td>\n",
              "      <td>NaN</td>\n",
              "      <td>NaN</td>\n",
              "      <td>NaN</td>\n",
              "      <td>NaN</td>\n",
              "      <td>NaN</td>\n",
              "      <td>NaN</td>\n",
              "      <td>NaN</td>\n",
              "      <td>NaN</td>\n",
              "      <td>NaN</td>\n",
              "      <td>NaN</td>\n",
              "      <td>NaN</td>\n",
              "      <td>NaN</td>\n",
              "      <td>NaN</td>\n",
              "      <td>NaN</td>\n",
              "      <td>NaN</td>\n",
              "      <td>NaN</td>\n",
              "      <td>NaN</td>\n",
              "      <td>NaN</td>\n",
              "      <td>NaN</td>\n",
              "      <td>NaN</td>\n",
              "      <td>NaN</td>\n",
              "      <td>NaN</td>\n",
              "      <td>NaN</td>\n",
              "      <td>NaN</td>\n",
              "    </tr>\n",
              "    <tr>\n",
              "      <th>8</th>\n",
              "      <td>2020.09.01.</td>\n",
              "      <td>A651205101</td>\n",
              "      <td>A6512051</td>\n",
              "      <td>2016</td>\n",
              "      <td>1</td>\n",
              "      <td>1</td>\n",
              "      <td>2</td>\n",
              "      <td>A651</td>\n",
              "      <td>1</td>\n",
              "      <td>38</td>\n",
              "      <td>NaN</td>\n",
              "      <td>1.0</td>\n",
              "      <td>2.0</td>\n",
              "      <td>2.0</td>\n",
              "      <td>2.0</td>\n",
              "      <td>4.0</td>\n",
              "      <td>1.0</td>\n",
              "      <td>3981.18</td>\n",
              "      <td>7890.77</td>\n",
              "      <td>NaN</td>\n",
              "      <td>NaN</td>\n",
              "      <td>11000.64</td>\n",
              "      <td>7884.85</td>\n",
              "      <td>NaN</td>\n",
              "      <td>NaN</td>\n",
              "      <td>NaN</td>\n",
              "      <td>NaN</td>\n",
              "      <td>NaN</td>\n",
              "      <td>NaN</td>\n",
              "      <td>13503.104343</td>\n",
              "      <td>NaN</td>\n",
              "      <td>17246.238682</td>\n",
              "      <td>NaN</td>\n",
              "      <td>701</td>\n",
              "      <td>4</td>\n",
              "      <td>4</td>\n",
              "      <td>20</td>\n",
              "      <td>1</td>\n",
              "      <td>2</td>\n",
              "      <td>2</td>\n",
              "      <td>...</td>\n",
              "      <td>50.41</td>\n",
              "      <td>50.97</td>\n",
              "      <td>23.13</td>\n",
              "      <td>2.83</td>\n",
              "      <td>20.01</td>\n",
              "      <td>598.45</td>\n",
              "      <td>304.87</td>\n",
              "      <td>12.30</td>\n",
              "      <td>131.52</td>\n",
              "      <td>437.02</td>\n",
              "      <td>1806.05</td>\n",
              "      <td>13.44</td>\n",
              "      <td>6377.46</td>\n",
              "      <td>2942.45</td>\n",
              "      <td>470.91</td>\n",
              "      <td>377.36</td>\n",
              "      <td>1122.58</td>\n",
              "      <td>283.81</td>\n",
              "      <td>3.00</td>\n",
              "      <td>2.40</td>\n",
              "      <td>35.76</td>\n",
              "      <td>23.49</td>\n",
              "      <td>1.0</td>\n",
              "      <td>1.0</td>\n",
              "      <td>3.0</td>\n",
              "      <td>51.41</td>\n",
              "      <td>10.0</td>\n",
              "      <td>5.00</td>\n",
              "      <td>0.2</td>\n",
              "      <td>0.0</td>\n",
              "      <td>3.53</td>\n",
              "      <td>3.50</td>\n",
              "      <td>10.0</td>\n",
              "      <td>10.0</td>\n",
              "      <td>0.00</td>\n",
              "      <td>0.27</td>\n",
              "      <td>6.72</td>\n",
              "      <td>0.0</td>\n",
              "      <td>0.0</td>\n",
              "      <td>2.19</td>\n",
              "    </tr>\n",
              "    <tr>\n",
              "      <th>10</th>\n",
              "      <td>2020.09.01.</td>\n",
              "      <td>A651205103</td>\n",
              "      <td>A6512051</td>\n",
              "      <td>2016</td>\n",
              "      <td>1</td>\n",
              "      <td>1</td>\n",
              "      <td>2</td>\n",
              "      <td>A651</td>\n",
              "      <td>1</td>\n",
              "      <td>3</td>\n",
              "      <td>39.0</td>\n",
              "      <td>1.0</td>\n",
              "      <td>2.0</td>\n",
              "      <td>2.0</td>\n",
              "      <td>2.0</td>\n",
              "      <td>1.0</td>\n",
              "      <td>NaN</td>\n",
              "      <td>3981.18</td>\n",
              "      <td>3475.65</td>\n",
              "      <td>NaN</td>\n",
              "      <td>NaN</td>\n",
              "      <td>3330.22</td>\n",
              "      <td>3321.46</td>\n",
              "      <td>NaN</td>\n",
              "      <td>NaN</td>\n",
              "      <td>NaN</td>\n",
              "      <td>NaN</td>\n",
              "      <td>NaN</td>\n",
              "      <td>NaN</td>\n",
              "      <td>NaN</td>\n",
              "      <td>NaN</td>\n",
              "      <td>NaN</td>\n",
              "      <td>NaN</td>\n",
              "      <td>701</td>\n",
              "      <td>4</td>\n",
              "      <td>4</td>\n",
              "      <td>20</td>\n",
              "      <td>1</td>\n",
              "      <td>2</td>\n",
              "      <td>2</td>\n",
              "      <td>...</td>\n",
              "      <td>9.48</td>\n",
              "      <td>7.00</td>\n",
              "      <td>2.79</td>\n",
              "      <td>0.24</td>\n",
              "      <td>2.50</td>\n",
              "      <td>80.99</td>\n",
              "      <td>117.50</td>\n",
              "      <td>6.08</td>\n",
              "      <td>42.65</td>\n",
              "      <td>139.37</td>\n",
              "      <td>287.85</td>\n",
              "      <td>3.72</td>\n",
              "      <td>671.94</td>\n",
              "      <td>619.28</td>\n",
              "      <td>97.92</td>\n",
              "      <td>66.79</td>\n",
              "      <td>373.60</td>\n",
              "      <td>35.66</td>\n",
              "      <td>0.38</td>\n",
              "      <td>0.39</td>\n",
              "      <td>4.67</td>\n",
              "      <td>58.25</td>\n",
              "      <td>1.0</td>\n",
              "      <td>1.0</td>\n",
              "      <td>3.0</td>\n",
              "      <td>NaN</td>\n",
              "      <td>NaN</td>\n",
              "      <td>NaN</td>\n",
              "      <td>NaN</td>\n",
              "      <td>NaN</td>\n",
              "      <td>NaN</td>\n",
              "      <td>NaN</td>\n",
              "      <td>NaN</td>\n",
              "      <td>NaN</td>\n",
              "      <td>NaN</td>\n",
              "      <td>NaN</td>\n",
              "      <td>NaN</td>\n",
              "      <td>NaN</td>\n",
              "      <td>NaN</td>\n",
              "      <td>NaN</td>\n",
              "    </tr>\n",
              "    <tr>\n",
              "      <th>13</th>\n",
              "      <td>2020.09.01.</td>\n",
              "      <td>A651235701</td>\n",
              "      <td>A6512357</td>\n",
              "      <td>2016</td>\n",
              "      <td>1</td>\n",
              "      <td>1</td>\n",
              "      <td>2</td>\n",
              "      <td>A651</td>\n",
              "      <td>1</td>\n",
              "      <td>61</td>\n",
              "      <td>NaN</td>\n",
              "      <td>4.0</td>\n",
              "      <td>4.0</td>\n",
              "      <td>5.0</td>\n",
              "      <td>5.0</td>\n",
              "      <td>4.0</td>\n",
              "      <td>2.0</td>\n",
              "      <td>3981.18</td>\n",
              "      <td>16539.11</td>\n",
              "      <td>9163.24</td>\n",
              "      <td>NaN</td>\n",
              "      <td>18898.23</td>\n",
              "      <td>14607.99</td>\n",
              "      <td>NaN</td>\n",
              "      <td>10141.65</td>\n",
              "      <td>NaN</td>\n",
              "      <td>NaN</td>\n",
              "      <td>NaN</td>\n",
              "      <td>NaN</td>\n",
              "      <td>18983.547519</td>\n",
              "      <td>15150.661617</td>\n",
              "      <td>21201.049833</td>\n",
              "      <td>17320.016847</td>\n",
              "      <td>701</td>\n",
              "      <td>4</td>\n",
              "      <td>4</td>\n",
              "      <td>20</td>\n",
              "      <td>1</td>\n",
              "      <td>2</td>\n",
              "      <td>2</td>\n",
              "      <td>...</td>\n",
              "      <td>12.92</td>\n",
              "      <td>18.89</td>\n",
              "      <td>18.59</td>\n",
              "      <td>3.80</td>\n",
              "      <td>14.69</td>\n",
              "      <td>557.74</td>\n",
              "      <td>356.88</td>\n",
              "      <td>41.22</td>\n",
              "      <td>59.52</td>\n",
              "      <td>592.22</td>\n",
              "      <td>1245.16</td>\n",
              "      <td>18.53</td>\n",
              "      <td>4078.26</td>\n",
              "      <td>3442.73</td>\n",
              "      <td>1311.98</td>\n",
              "      <td>1025.37</td>\n",
              "      <td>3439.38</td>\n",
              "      <td>738.75</td>\n",
              "      <td>2.14</td>\n",
              "      <td>2.26</td>\n",
              "      <td>16.75</td>\n",
              "      <td>79.20</td>\n",
              "      <td>1.0</td>\n",
              "      <td>2.0</td>\n",
              "      <td>1.0</td>\n",
              "      <td>80.38</td>\n",
              "      <td>10.0</td>\n",
              "      <td>0.00</td>\n",
              "      <td>5.0</td>\n",
              "      <td>5.0</td>\n",
              "      <td>5.00</td>\n",
              "      <td>5.00</td>\n",
              "      <td>10.0</td>\n",
              "      <td>0.0</td>\n",
              "      <td>10.00</td>\n",
              "      <td>5.38</td>\n",
              "      <td>10.00</td>\n",
              "      <td>5.0</td>\n",
              "      <td>5.0</td>\n",
              "      <td>5.00</td>\n",
              "    </tr>\n",
              "  </tbody>\n",
              "</table>\n",
              "<p>5 rows × 799 columns</p>\n",
              "</div>"
            ],
            "text/plain": [
              "          mod_d          ID    ID_fam  ...  HEI_CHO  HEI_FAT  HEI_EN\n",
              "0   2020.09.01.  A651172801  A6511728  ...      5.0      5.0    5.00\n",
              "3   2020.09.01.  A651183002  A6511830  ...      NaN      NaN     NaN\n",
              "8   2020.09.01.  A651205101  A6512051  ...      0.0      0.0    2.19\n",
              "10  2020.09.01.  A651205103  A6512051  ...      NaN      NaN     NaN\n",
              "13  2020.09.01.  A651235701  A6512357  ...      5.0      5.0    5.00\n",
              "\n",
              "[5 rows x 799 columns]"
            ]
          },
          "metadata": {
            "tags": []
          },
          "execution_count": 49
        }
      ]
    },
    {
      "cell_type": "code",
      "metadata": {
        "colab": {
          "base_uri": "https://localhost:8080/"
        },
        "id": "FYvPti8bdRGy",
        "outputId": "f99337cc-9a4f-42f6-b0da-90b455ae1732"
      },
      "source": [
        "df.HE_wc.describe()"
      ],
      "execution_count": 50,
      "outputs": [
        {
          "output_type": "execute_result",
          "data": {
            "text/plain": [
              "count    3485.000000\n",
              "mean       80.534060\n",
              "std        14.859101\n",
              "min        19.600000\n",
              "25%        73.700000\n",
              "50%        83.700000\n",
              "75%        90.200000\n",
              "max       129.800000\n",
              "Name: HE_wc, dtype: float64"
            ]
          },
          "metadata": {
            "tags": []
          },
          "execution_count": 50
        }
      ]
    },
    {
      "cell_type": "code",
      "metadata": {
        "colab": {
          "base_uri": "https://localhost:8080/"
        },
        "id": "GhnZ9LYVdBkd",
        "outputId": "dac83932-f683-4817-9301-be28efd46f4e"
      },
      "source": [
        "# 허리 둘레 변수 값 재할당\r\n",
        "df.loc[df['HE_wc'] < 90, 'HE_wc'] = 0\r\n",
        "df.loc[df['HE_wc'] >= 90, 'HE_wc'] = 1\r\n",
        "print(df['HE_wc'].value_counts())"
      ],
      "execution_count": 51,
      "outputs": [
        {
          "output_type": "stream",
          "text": [
            "0.0    2578\n",
            "1.0     907\n",
            "Name: HE_wc, dtype: int64\n"
          ],
          "name": "stdout"
        }
      ]
    },
    {
      "cell_type": "code",
      "metadata": {
        "colab": {
          "base_uri": "https://localhost:8080/"
        },
        "id": "rK5I3LiYdi8q",
        "outputId": "77a1ad57-c991-4915-81cc-79ff29dfc1ba"
      },
      "source": [
        "df.HE_TG.describe()"
      ],
      "execution_count": 52,
      "outputs": [
        {
          "output_type": "execute_result",
          "data": {
            "text/plain": [
              "count    2912.000000\n",
              "mean      155.883242\n",
              "std       143.260020\n",
              "min        23.000000\n",
              "25%        81.000000\n",
              "50%       120.000000\n",
              "75%       183.000000\n",
              "max      2215.000000\n",
              "Name: HE_TG, dtype: float64"
            ]
          },
          "metadata": {
            "tags": []
          },
          "execution_count": 52
        }
      ]
    },
    {
      "cell_type": "code",
      "metadata": {
        "colab": {
          "base_uri": "https://localhost:8080/"
        },
        "id": "3ivBTQqpda8E",
        "outputId": "24837174-a76f-41c7-cf42-7d3e2db1195b"
      },
      "source": [
        "# 중성지방 변수 값 재할당\r\n",
        "df.loc[df['HE_TG'] < 150, 'HE_TG'] = 0\r\n",
        "df.loc[df['HE_TG'] >= 150, 'HE_TG'] = 1\r\n",
        "print(df['HE_TG'].value_counts())"
      ],
      "execution_count": 53,
      "outputs": [
        {
          "output_type": "stream",
          "text": [
            "0.0    1842\n",
            "1.0    1070\n",
            "Name: HE_TG, dtype: int64\n"
          ],
          "name": "stdout"
        }
      ]
    },
    {
      "cell_type": "code",
      "metadata": {
        "colab": {
          "base_uri": "https://localhost:8080/"
        },
        "id": "HmT1X-wZdock",
        "outputId": "fe3d3bf8-0d1b-4f47-d9e2-72c4e70dcb72"
      },
      "source": [
        "df.HE_HDL_st2.describe()"
      ],
      "execution_count": 54,
      "outputs": [
        {
          "output_type": "execute_result",
          "data": {
            "text/plain": [
              "count    2912.000000\n",
              "mean       47.523884\n",
              "std        11.768607\n",
              "min         5.920000\n",
              "25%        39.250000\n",
              "50%        46.320000\n",
              "75%        54.400000\n",
              "max       145.300000\n",
              "Name: HE_HDL_st2, dtype: float64"
            ]
          },
          "metadata": {
            "tags": []
          },
          "execution_count": 54
        }
      ]
    },
    {
      "cell_type": "code",
      "metadata": {
        "colab": {
          "base_uri": "https://localhost:8080/"
        },
        "id": "x4BfEJKOdsCC",
        "outputId": "fb8070c9-0f27-40e7-b857-3fff665ba8a6"
      },
      "source": [
        "# HDL-콜레스테롤(보정값) 변수 값 재할당\r\n",
        "df.loc[df['HE_HDL_st2'] < 40, 'HE_HDL_st2'] = 1\r\n",
        "df.loc[df['HE_HDL_st2'] >= 40, 'HE_HDL_st2'] = 0\r\n",
        "print(df['HE_HDL_st2'].value_counts())"
      ],
      "execution_count": 55,
      "outputs": [
        {
          "output_type": "stream",
          "text": [
            "0.0    2135\n",
            "1.0     777\n",
            "Name: HE_HDL_st2, dtype: int64\n"
          ],
          "name": "stdout"
        }
      ]
    },
    {
      "cell_type": "code",
      "metadata": {
        "colab": {
          "base_uri": "https://localhost:8080/"
        },
        "id": "lJYkRvD2eD5_",
        "outputId": "6954c97b-156f-431c-f681-5649ce5a5cab"
      },
      "source": [
        "df.HE_sbp.describe()"
      ],
      "execution_count": 56,
      "outputs": [
        {
          "output_type": "execute_result",
          "data": {
            "text/plain": [
              "count    3004.000000\n",
              "mean      120.236684\n",
              "std        14.714813\n",
              "min        83.000000\n",
              "25%       110.000000\n",
              "50%       119.000000\n",
              "75%       129.000000\n",
              "max       243.000000\n",
              "Name: HE_sbp, dtype: float64"
            ]
          },
          "metadata": {
            "tags": []
          },
          "execution_count": 56
        }
      ]
    },
    {
      "cell_type": "code",
      "metadata": {
        "colab": {
          "base_uri": "https://localhost:8080/"
        },
        "id": "OhCBBVD4eHhw",
        "outputId": "657ccefd-09e7-4643-e289-b498dedc65c5"
      },
      "source": [
        "df.HE_dbp"
      ],
      "execution_count": 57,
      "outputs": [
        {
          "output_type": "execute_result",
          "data": {
            "text/plain": [
              "0       80.0\n",
              "3       99.0\n",
              "8       81.0\n",
              "10       NaN\n",
              "13      74.0\n",
              "        ... \n",
              "8137     NaN\n",
              "8138    73.0\n",
              "8142    81.0\n",
              "8145    71.0\n",
              "8148    91.0\n",
              "Name: HE_dbp, Length: 3665, dtype: float64"
            ]
          },
          "metadata": {
            "tags": []
          },
          "execution_count": 57
        }
      ]
    },
    {
      "cell_type": "code",
      "metadata": {
        "colab": {
          "base_uri": "https://localhost:8080/"
        },
        "id": "PMNc6i3ReKwH",
        "outputId": "b2ac3234-0e76-4729-ac3a-8c37573c0359"
      },
      "source": [
        "# 혈압 변수 새로 생성 ( 수축기 혈압 130 이상 or 이완기 혈압 85 이상)\r\n",
        "\r\n",
        "df.loc[df['HE_sbp'] < 130, 'HE_sbp'] = 0\r\n",
        "df.loc[df['HE_sbp'] >= 130, 'HE_sbp'] = 1\r\n",
        "print(df['HE_sbp'].value_counts())"
      ],
      "execution_count": 58,
      "outputs": [
        {
          "output_type": "stream",
          "text": [
            "0.0    2290\n",
            "1.0     714\n",
            "Name: HE_sbp, dtype: int64\n"
          ],
          "name": "stdout"
        }
      ]
    },
    {
      "cell_type": "code",
      "metadata": {
        "colab": {
          "base_uri": "https://localhost:8080/"
        },
        "id": "_3gl2-YqeydV",
        "outputId": "a0c44012-b623-4563-f880-3802ac56f179"
      },
      "source": [
        "df.loc[df['HE_dbp'] < 85, 'HE_dbp'] = 0\r\n",
        "df.loc[df['HE_dbp'] >= 85, 'HE_dbp'] = 1\r\n",
        "print(df['HE_dbp'].value_counts())"
      ],
      "execution_count": 59,
      "outputs": [
        {
          "output_type": "stream",
          "text": [
            "0.0    2341\n",
            "1.0     663\n",
            "Name: HE_dbp, dtype: int64\n"
          ],
          "name": "stdout"
        }
      ]
    },
    {
      "cell_type": "code",
      "metadata": {
        "colab": {
          "base_uri": "https://localhost:8080/"
        },
        "id": "4a5pBVTagX7z",
        "outputId": "317d0ff1-408a-4cc1-c507-0b25919a0e68"
      },
      "source": [
        "print(df.HE_sbp.value_counts())\r\n",
        "print(df.HE_dbp.value_counts())"
      ],
      "execution_count": 60,
      "outputs": [
        {
          "output_type": "stream",
          "text": [
            "0.0    2290\n",
            "1.0     714\n",
            "Name: HE_sbp, dtype: int64\n",
            "0.0    2341\n",
            "1.0     663\n",
            "Name: HE_dbp, dtype: int64\n"
          ],
          "name": "stdout"
        }
      ]
    },
    {
      "cell_type": "code",
      "metadata": {
        "colab": {
          "base_uri": "https://localhost:8080/"
        },
        "id": "XdGLSib3e9YN",
        "outputId": "34c17639-cb12-492d-b0e3-7d3690683641"
      },
      "source": [
        "# 수축기 혈압 변수 및 이완기 혈압 변수 이용해서 BloodPressure라는 변수 재생성\r\n",
        "df['BloodPressure'] = df['HE_sbp'] + df['HE_dbp']\r\n",
        "df.BloodPressure.value_counts()"
      ],
      "execution_count": 61,
      "outputs": [
        {
          "output_type": "execute_result",
          "data": {
            "text/plain": [
              "0.0    2010\n",
              "1.0     611\n",
              "2.0     383\n",
              "Name: BloodPressure, dtype: int64"
            ]
          },
          "metadata": {
            "tags": []
          },
          "execution_count": 61
        }
      ]
    },
    {
      "cell_type": "code",
      "metadata": {
        "colab": {
          "base_uri": "https://localhost:8080/"
        },
        "id": "Rx0n3BfNhHFZ",
        "outputId": "11ffcc99-4660-42d5-f73b-f43e80319ba8"
      },
      "source": [
        "# 문제 조건에서 수축기 혈압 130 이상 또는 이완기 혈압 85 이상을 조건으로 했기 때문에 값 재할당\r\n",
        "df.loc[df['BloodPressure'] >= 1, 'BloodPressure'] = 1 # 수축기 혈압 130 이상 또는 이완기 혈압 85 이상이면 값을 1 할당\r\n",
        "print(df['BloodPressure'].value_counts())"
      ],
      "execution_count": 62,
      "outputs": [
        {
          "output_type": "stream",
          "text": [
            "0.0    2010\n",
            "1.0     994\n",
            "Name: BloodPressure, dtype: int64\n"
          ],
          "name": "stdout"
        }
      ]
    },
    {
      "cell_type": "code",
      "metadata": {
        "colab": {
          "base_uri": "https://localhost:8080/"
        },
        "id": "GcLR1H07hevi",
        "outputId": "82dbbe04-00c8-4fd7-d5ce-c7c1d5214f5d"
      },
      "source": [
        "df.HE_glu.describe()"
      ],
      "execution_count": 63,
      "outputs": [
        {
          "output_type": "execute_result",
          "data": {
            "text/plain": [
              "count    2912.000000\n",
              "mean      103.189217\n",
              "std        25.574221\n",
              "min        53.000000\n",
              "25%        90.000000\n",
              "50%        97.000000\n",
              "75%       106.000000\n",
              "max       328.000000\n",
              "Name: HE_glu, dtype: float64"
            ]
          },
          "metadata": {
            "tags": []
          },
          "execution_count": 63
        }
      ]
    },
    {
      "cell_type": "code",
      "metadata": {
        "colab": {
          "base_uri": "https://localhost:8080/"
        },
        "id": "2wLT13twgVp6",
        "outputId": "2c56a6e1-568d-40d8-e797-c710f6a9c498"
      },
      "source": [
        "# 공복혈당 변수 재할당\r\n",
        "df.loc[df['HE_glu'] < 100, 'HE_glu'] = 0\r\n",
        "df.loc[df['HE_glu'] >= 100, 'HE_glu'] = 1\r\n",
        "print(df['HE_glu'].value_counts())"
      ],
      "execution_count": 64,
      "outputs": [
        {
          "output_type": "stream",
          "text": [
            "0.0    1732\n",
            "1.0    1180\n",
            "Name: HE_glu, dtype: int64\n"
          ],
          "name": "stdout"
        }
      ]
    },
    {
      "cell_type": "code",
      "metadata": {
        "colab": {
          "base_uri": "https://localhost:8080/"
        },
        "id": "UjxtzhsthuYw",
        "outputId": "7edf1cf9-124f-43f2-cb2b-4dab378e60a7"
      },
      "source": [
        "# Target Attribute 생성\r\n",
        "# 5가지 기준에 해당하면 각 변수별로 값이 1이고 그렇지 않으면 0.\r\n",
        "# 다섯 가지 변수의 합을 이용해 대사증후군 여부 변수 생성\r\n",
        "df['metabolic'] = df['HE_wc'] + df['HE_TG'] + df['HE_HDL_st2'] + df['BloodPressure'] + df['HE_glu']\r\n",
        "df.metabolic.value_counts()"
      ],
      "execution_count": 65,
      "outputs": [
        {
          "output_type": "execute_result",
          "data": {
            "text/plain": [
              "0.0    739\n",
              "1.0    703\n",
              "2.0    635\n",
              "3.0    485\n",
              "4.0    264\n",
              "5.0     71\n",
              "Name: metabolic, dtype: int64"
            ]
          },
          "metadata": {
            "tags": []
          },
          "execution_count": 65
        }
      ]
    },
    {
      "cell_type": "code",
      "metadata": {
        "colab": {
          "base_uri": "https://localhost:8080/"
        },
        "id": "Q26sAGxFiOsA",
        "outputId": "c760f296-b45b-4b23-bee8-aba6597ffba8"
      },
      "source": [
        "# 5개 기준 중 3가지 이상인 경우, 즉 값이 3 이상이면 대사증후군으로 정의\r\n",
        "df.loc[df['metabolic'] < 3, 'metabolic'] = 0\r\n",
        "df.loc[df['metabolic'] >= 3, 'metabolic'] = 1\r\n",
        "print(df['metabolic'].value_counts())\r\n"
      ],
      "execution_count": 66,
      "outputs": [
        {
          "output_type": "stream",
          "text": [
            "0.0    2077\n",
            "1.0     820\n",
            "Name: metabolic, dtype: int64\n"
          ],
          "name": "stdout"
        }
      ]
    },
    {
      "cell_type": "code",
      "metadata": {
        "id": "xmF8Fbl1ikMZ"
      },
      "source": [
        "# csv 파일로 임시 저장\r\n",
        "df.to_csv(\"df.csv\")"
      ],
      "execution_count": 67,
      "outputs": []
    },
    {
      "cell_type": "code",
      "metadata": {
        "id": "w3AuS4tcivgF"
      },
      "source": [
        "df_after = df.copy()"
      ],
      "execution_count": 68,
      "outputs": []
    },
    {
      "cell_type": "code",
      "metadata": {
        "colab": {
          "base_uri": "https://localhost:8080/"
        },
        "id": "l_pkvZUxi09Q",
        "outputId": "f8d1d9ca-c92a-4ca5-868d-0bc252b4b18a"
      },
      "source": [
        "df_after.metabolic.value_counts()"
      ],
      "execution_count": 69,
      "outputs": [
        {
          "output_type": "execute_result",
          "data": {
            "text/plain": [
              "0.0    2077\n",
              "1.0     820\n",
              "Name: metabolic, dtype: int64"
            ]
          },
          "metadata": {
            "tags": []
          },
          "execution_count": 69
        }
      ]
    },
    {
      "cell_type": "markdown",
      "metadata": {
        "id": "XzkjfkGsz2Rg"
      },
      "source": [
        "# 탐색적 분석"
      ]
    },
    {
      "cell_type": "markdown",
      "metadata": {
        "id": "LkwDVwfAySft"
      },
      "source": [
        "데이터의 모양 확인"
      ]
    },
    {
      "cell_type": "code",
      "metadata": {
        "id": "vzorKhtiyNDT",
        "colab": {
          "base_uri": "https://localhost:8080/",
          "height": 0
        },
        "outputId": "43218652-d3d7-4d86-d1a8-36ad844090ad"
      },
      "source": [
        "df_after.head()"
      ],
      "execution_count": 72,
      "outputs": [
        {
          "output_type": "execute_result",
          "data": {
            "text/html": [
              "<div>\n",
              "<style scoped>\n",
              "    .dataframe tbody tr th:only-of-type {\n",
              "        vertical-align: middle;\n",
              "    }\n",
              "\n",
              "    .dataframe tbody tr th {\n",
              "        vertical-align: top;\n",
              "    }\n",
              "\n",
              "    .dataframe thead th {\n",
              "        text-align: right;\n",
              "    }\n",
              "</style>\n",
              "<table border=\"1\" class=\"dataframe\">\n",
              "  <thead>\n",
              "    <tr style=\"text-align: right;\">\n",
              "      <th></th>\n",
              "      <th>mod_d</th>\n",
              "      <th>ID</th>\n",
              "      <th>ID_fam</th>\n",
              "      <th>year</th>\n",
              "      <th>region</th>\n",
              "      <th>town_t</th>\n",
              "      <th>apt_t</th>\n",
              "      <th>psu</th>\n",
              "      <th>sex</th>\n",
              "      <th>age</th>\n",
              "      <th>age_month</th>\n",
              "      <th>incm</th>\n",
              "      <th>ho_incm</th>\n",
              "      <th>incm5</th>\n",
              "      <th>ho_incm5</th>\n",
              "      <th>edu</th>\n",
              "      <th>occp</th>\n",
              "      <th>wt_hs</th>\n",
              "      <th>wt_itvex</th>\n",
              "      <th>wt_pft</th>\n",
              "      <th>wt_hm</th>\n",
              "      <th>wt_ntr</th>\n",
              "      <th>wt_tot</th>\n",
              "      <th>wt_pfhm</th>\n",
              "      <th>wt_pfnt</th>\n",
              "      <th>wt_hmnt</th>\n",
              "      <th>wt_pfhmnt</th>\n",
              "      <th>wt_nn</th>\n",
              "      <th>wt_nnnt</th>\n",
              "      <th>wt_vt</th>\n",
              "      <th>wt_pfvt</th>\n",
              "      <th>wt_vtnt</th>\n",
              "      <th>wt_pfvtnt</th>\n",
              "      <th>kstrata</th>\n",
              "      <th>cfam</th>\n",
              "      <th>genertn</th>\n",
              "      <th>allownc</th>\n",
              "      <th>house</th>\n",
              "      <th>live_t</th>\n",
              "      <th>ainc_unit1</th>\n",
              "      <th>...</th>\n",
              "      <th>N_PUFA</th>\n",
              "      <th>N_N3</th>\n",
              "      <th>N_N6</th>\n",
              "      <th>N_CHOL</th>\n",
              "      <th>N_CHO</th>\n",
              "      <th>N_TDF</th>\n",
              "      <th>N_SUGAR</th>\n",
              "      <th>N_CA</th>\n",
              "      <th>N_PHOS</th>\n",
              "      <th>N_FE</th>\n",
              "      <th>N_NA</th>\n",
              "      <th>N_K</th>\n",
              "      <th>N_VA</th>\n",
              "      <th>N_VA_RAE</th>\n",
              "      <th>N_CAROT</th>\n",
              "      <th>N_RETIN</th>\n",
              "      <th>N_B1</th>\n",
              "      <th>N_B2</th>\n",
              "      <th>N_NIAC</th>\n",
              "      <th>N_VITC</th>\n",
              "      <th>LF_secur_y</th>\n",
              "      <th>LF_BUYER</th>\n",
              "      <th>LF_SAFE</th>\n",
              "      <th>HEI</th>\n",
              "      <th>HEI_BR</th>\n",
              "      <th>HEI_CEREAL</th>\n",
              "      <th>HEI_TFRUIT</th>\n",
              "      <th>HEI_FFRUIT</th>\n",
              "      <th>HEI_TVEG</th>\n",
              "      <th>HEI_VEG</th>\n",
              "      <th>HEI_PROTF</th>\n",
              "      <th>HEI_DAIRY</th>\n",
              "      <th>HEI_SFA</th>\n",
              "      <th>HEI_NA</th>\n",
              "      <th>HEI_SWEET</th>\n",
              "      <th>HEI_CHO</th>\n",
              "      <th>HEI_FAT</th>\n",
              "      <th>HEI_EN</th>\n",
              "      <th>BloodPressure</th>\n",
              "      <th>metabolic</th>\n",
              "    </tr>\n",
              "  </thead>\n",
              "  <tbody>\n",
              "    <tr>\n",
              "      <th>0</th>\n",
              "      <td>2020.09.01.</td>\n",
              "      <td>A651172801</td>\n",
              "      <td>A6511728</td>\n",
              "      <td>2016</td>\n",
              "      <td>1</td>\n",
              "      <td>1</td>\n",
              "      <td>2</td>\n",
              "      <td>A651</td>\n",
              "      <td>1</td>\n",
              "      <td>61</td>\n",
              "      <td>NaN</td>\n",
              "      <td>3.0</td>\n",
              "      <td>3.0</td>\n",
              "      <td>4.0</td>\n",
              "      <td>4.0</td>\n",
              "      <td>4.0</td>\n",
              "      <td>7.0</td>\n",
              "      <td>3981.18</td>\n",
              "      <td>7446.34</td>\n",
              "      <td>4581.62</td>\n",
              "      <td>NaN</td>\n",
              "      <td>8321.14</td>\n",
              "      <td>5477.99</td>\n",
              "      <td>NaN</td>\n",
              "      <td>5070.82</td>\n",
              "      <td>NaN</td>\n",
              "      <td>NaN</td>\n",
              "      <td>9283.96</td>\n",
              "      <td>10630.31</td>\n",
              "      <td>7118.830320</td>\n",
              "      <td>7575.330809</td>\n",
              "      <td>7950.393687</td>\n",
              "      <td>8660.008423</td>\n",
              "      <td>701</td>\n",
              "      <td>3</td>\n",
              "      <td>4</td>\n",
              "      <td>20</td>\n",
              "      <td>2</td>\n",
              "      <td>2</td>\n",
              "      <td>2</td>\n",
              "      <td>...</td>\n",
              "      <td>20.99</td>\n",
              "      <td>3.02</td>\n",
              "      <td>17.91</td>\n",
              "      <td>114.80</td>\n",
              "      <td>407.09</td>\n",
              "      <td>52.22</td>\n",
              "      <td>180.06</td>\n",
              "      <td>372.64</td>\n",
              "      <td>1107.28</td>\n",
              "      <td>15.29</td>\n",
              "      <td>2437.96</td>\n",
              "      <td>4294.23</td>\n",
              "      <td>188.66</td>\n",
              "      <td>94.33</td>\n",
              "      <td>1131.95</td>\n",
              "      <td>0.00</td>\n",
              "      <td>0.72</td>\n",
              "      <td>1.99</td>\n",
              "      <td>14.40</td>\n",
              "      <td>86.65</td>\n",
              "      <td>1.0</td>\n",
              "      <td>1.0</td>\n",
              "      <td>1.0</td>\n",
              "      <td>74.18</td>\n",
              "      <td>10.0</td>\n",
              "      <td>0.29</td>\n",
              "      <td>5.0</td>\n",
              "      <td>5.0</td>\n",
              "      <td>1.28</td>\n",
              "      <td>1.45</td>\n",
              "      <td>10.0</td>\n",
              "      <td>0.0</td>\n",
              "      <td>7.14</td>\n",
              "      <td>9.03</td>\n",
              "      <td>10.00</td>\n",
              "      <td>5.0</td>\n",
              "      <td>5.0</td>\n",
              "      <td>5.00</td>\n",
              "      <td>1.0</td>\n",
              "      <td>0.0</td>\n",
              "    </tr>\n",
              "    <tr>\n",
              "      <th>3</th>\n",
              "      <td>2020.09.01.</td>\n",
              "      <td>A651183002</td>\n",
              "      <td>A6511830</td>\n",
              "      <td>2016</td>\n",
              "      <td>1</td>\n",
              "      <td>1</td>\n",
              "      <td>2</td>\n",
              "      <td>A651</td>\n",
              "      <td>1</td>\n",
              "      <td>39</td>\n",
              "      <td>NaN</td>\n",
              "      <td>3.0</td>\n",
              "      <td>3.0</td>\n",
              "      <td>4.0</td>\n",
              "      <td>4.0</td>\n",
              "      <td>4.0</td>\n",
              "      <td>3.0</td>\n",
              "      <td>3981.18</td>\n",
              "      <td>7890.77</td>\n",
              "      <td>NaN</td>\n",
              "      <td>29458.66</td>\n",
              "      <td>NaN</td>\n",
              "      <td>NaN</td>\n",
              "      <td>NaN</td>\n",
              "      <td>NaN</td>\n",
              "      <td>NaN</td>\n",
              "      <td>NaN</td>\n",
              "      <td>NaN</td>\n",
              "      <td>NaN</td>\n",
              "      <td>NaN</td>\n",
              "      <td>NaN</td>\n",
              "      <td>NaN</td>\n",
              "      <td>NaN</td>\n",
              "      <td>701</td>\n",
              "      <td>5</td>\n",
              "      <td>6</td>\n",
              "      <td>20</td>\n",
              "      <td>3</td>\n",
              "      <td>2</td>\n",
              "      <td>2</td>\n",
              "      <td>...</td>\n",
              "      <td>NaN</td>\n",
              "      <td>NaN</td>\n",
              "      <td>NaN</td>\n",
              "      <td>NaN</td>\n",
              "      <td>NaN</td>\n",
              "      <td>NaN</td>\n",
              "      <td>NaN</td>\n",
              "      <td>NaN</td>\n",
              "      <td>NaN</td>\n",
              "      <td>NaN</td>\n",
              "      <td>NaN</td>\n",
              "      <td>NaN</td>\n",
              "      <td>NaN</td>\n",
              "      <td>NaN</td>\n",
              "      <td>NaN</td>\n",
              "      <td>NaN</td>\n",
              "      <td>NaN</td>\n",
              "      <td>NaN</td>\n",
              "      <td>NaN</td>\n",
              "      <td>NaN</td>\n",
              "      <td>NaN</td>\n",
              "      <td>NaN</td>\n",
              "      <td>NaN</td>\n",
              "      <td>NaN</td>\n",
              "      <td>NaN</td>\n",
              "      <td>NaN</td>\n",
              "      <td>NaN</td>\n",
              "      <td>NaN</td>\n",
              "      <td>NaN</td>\n",
              "      <td>NaN</td>\n",
              "      <td>NaN</td>\n",
              "      <td>NaN</td>\n",
              "      <td>NaN</td>\n",
              "      <td>NaN</td>\n",
              "      <td>NaN</td>\n",
              "      <td>NaN</td>\n",
              "      <td>NaN</td>\n",
              "      <td>NaN</td>\n",
              "      <td>1.0</td>\n",
              "      <td>1.0</td>\n",
              "    </tr>\n",
              "    <tr>\n",
              "      <th>8</th>\n",
              "      <td>2020.09.01.</td>\n",
              "      <td>A651205101</td>\n",
              "      <td>A6512051</td>\n",
              "      <td>2016</td>\n",
              "      <td>1</td>\n",
              "      <td>1</td>\n",
              "      <td>2</td>\n",
              "      <td>A651</td>\n",
              "      <td>1</td>\n",
              "      <td>38</td>\n",
              "      <td>NaN</td>\n",
              "      <td>1.0</td>\n",
              "      <td>2.0</td>\n",
              "      <td>2.0</td>\n",
              "      <td>2.0</td>\n",
              "      <td>4.0</td>\n",
              "      <td>1.0</td>\n",
              "      <td>3981.18</td>\n",
              "      <td>7890.77</td>\n",
              "      <td>NaN</td>\n",
              "      <td>NaN</td>\n",
              "      <td>11000.64</td>\n",
              "      <td>7884.85</td>\n",
              "      <td>NaN</td>\n",
              "      <td>NaN</td>\n",
              "      <td>NaN</td>\n",
              "      <td>NaN</td>\n",
              "      <td>NaN</td>\n",
              "      <td>NaN</td>\n",
              "      <td>13503.104343</td>\n",
              "      <td>NaN</td>\n",
              "      <td>17246.238682</td>\n",
              "      <td>NaN</td>\n",
              "      <td>701</td>\n",
              "      <td>4</td>\n",
              "      <td>4</td>\n",
              "      <td>20</td>\n",
              "      <td>1</td>\n",
              "      <td>2</td>\n",
              "      <td>2</td>\n",
              "      <td>...</td>\n",
              "      <td>23.13</td>\n",
              "      <td>2.83</td>\n",
              "      <td>20.01</td>\n",
              "      <td>598.45</td>\n",
              "      <td>304.87</td>\n",
              "      <td>12.30</td>\n",
              "      <td>131.52</td>\n",
              "      <td>437.02</td>\n",
              "      <td>1806.05</td>\n",
              "      <td>13.44</td>\n",
              "      <td>6377.46</td>\n",
              "      <td>2942.45</td>\n",
              "      <td>470.91</td>\n",
              "      <td>377.36</td>\n",
              "      <td>1122.58</td>\n",
              "      <td>283.81</td>\n",
              "      <td>3.00</td>\n",
              "      <td>2.40</td>\n",
              "      <td>35.76</td>\n",
              "      <td>23.49</td>\n",
              "      <td>1.0</td>\n",
              "      <td>1.0</td>\n",
              "      <td>3.0</td>\n",
              "      <td>51.41</td>\n",
              "      <td>10.0</td>\n",
              "      <td>5.00</td>\n",
              "      <td>0.2</td>\n",
              "      <td>0.0</td>\n",
              "      <td>3.53</td>\n",
              "      <td>3.50</td>\n",
              "      <td>10.0</td>\n",
              "      <td>10.0</td>\n",
              "      <td>0.00</td>\n",
              "      <td>0.27</td>\n",
              "      <td>6.72</td>\n",
              "      <td>0.0</td>\n",
              "      <td>0.0</td>\n",
              "      <td>2.19</td>\n",
              "      <td>0.0</td>\n",
              "      <td>0.0</td>\n",
              "    </tr>\n",
              "    <tr>\n",
              "      <th>10</th>\n",
              "      <td>2020.09.01.</td>\n",
              "      <td>A651205103</td>\n",
              "      <td>A6512051</td>\n",
              "      <td>2016</td>\n",
              "      <td>1</td>\n",
              "      <td>1</td>\n",
              "      <td>2</td>\n",
              "      <td>A651</td>\n",
              "      <td>1</td>\n",
              "      <td>3</td>\n",
              "      <td>39.0</td>\n",
              "      <td>1.0</td>\n",
              "      <td>2.0</td>\n",
              "      <td>2.0</td>\n",
              "      <td>2.0</td>\n",
              "      <td>1.0</td>\n",
              "      <td>NaN</td>\n",
              "      <td>3981.18</td>\n",
              "      <td>3475.65</td>\n",
              "      <td>NaN</td>\n",
              "      <td>NaN</td>\n",
              "      <td>3330.22</td>\n",
              "      <td>3321.46</td>\n",
              "      <td>NaN</td>\n",
              "      <td>NaN</td>\n",
              "      <td>NaN</td>\n",
              "      <td>NaN</td>\n",
              "      <td>NaN</td>\n",
              "      <td>NaN</td>\n",
              "      <td>NaN</td>\n",
              "      <td>NaN</td>\n",
              "      <td>NaN</td>\n",
              "      <td>NaN</td>\n",
              "      <td>701</td>\n",
              "      <td>4</td>\n",
              "      <td>4</td>\n",
              "      <td>20</td>\n",
              "      <td>1</td>\n",
              "      <td>2</td>\n",
              "      <td>2</td>\n",
              "      <td>...</td>\n",
              "      <td>2.79</td>\n",
              "      <td>0.24</td>\n",
              "      <td>2.50</td>\n",
              "      <td>80.99</td>\n",
              "      <td>117.50</td>\n",
              "      <td>6.08</td>\n",
              "      <td>42.65</td>\n",
              "      <td>139.37</td>\n",
              "      <td>287.85</td>\n",
              "      <td>3.72</td>\n",
              "      <td>671.94</td>\n",
              "      <td>619.28</td>\n",
              "      <td>97.92</td>\n",
              "      <td>66.79</td>\n",
              "      <td>373.60</td>\n",
              "      <td>35.66</td>\n",
              "      <td>0.38</td>\n",
              "      <td>0.39</td>\n",
              "      <td>4.67</td>\n",
              "      <td>58.25</td>\n",
              "      <td>1.0</td>\n",
              "      <td>1.0</td>\n",
              "      <td>3.0</td>\n",
              "      <td>NaN</td>\n",
              "      <td>NaN</td>\n",
              "      <td>NaN</td>\n",
              "      <td>NaN</td>\n",
              "      <td>NaN</td>\n",
              "      <td>NaN</td>\n",
              "      <td>NaN</td>\n",
              "      <td>NaN</td>\n",
              "      <td>NaN</td>\n",
              "      <td>NaN</td>\n",
              "      <td>NaN</td>\n",
              "      <td>NaN</td>\n",
              "      <td>NaN</td>\n",
              "      <td>NaN</td>\n",
              "      <td>NaN</td>\n",
              "      <td>NaN</td>\n",
              "      <td>NaN</td>\n",
              "    </tr>\n",
              "    <tr>\n",
              "      <th>13</th>\n",
              "      <td>2020.09.01.</td>\n",
              "      <td>A651235701</td>\n",
              "      <td>A6512357</td>\n",
              "      <td>2016</td>\n",
              "      <td>1</td>\n",
              "      <td>1</td>\n",
              "      <td>2</td>\n",
              "      <td>A651</td>\n",
              "      <td>1</td>\n",
              "      <td>61</td>\n",
              "      <td>NaN</td>\n",
              "      <td>4.0</td>\n",
              "      <td>4.0</td>\n",
              "      <td>5.0</td>\n",
              "      <td>5.0</td>\n",
              "      <td>4.0</td>\n",
              "      <td>2.0</td>\n",
              "      <td>3981.18</td>\n",
              "      <td>16539.11</td>\n",
              "      <td>9163.24</td>\n",
              "      <td>NaN</td>\n",
              "      <td>18898.23</td>\n",
              "      <td>14607.99</td>\n",
              "      <td>NaN</td>\n",
              "      <td>10141.65</td>\n",
              "      <td>NaN</td>\n",
              "      <td>NaN</td>\n",
              "      <td>NaN</td>\n",
              "      <td>NaN</td>\n",
              "      <td>18983.547519</td>\n",
              "      <td>15150.661617</td>\n",
              "      <td>21201.049833</td>\n",
              "      <td>17320.016847</td>\n",
              "      <td>701</td>\n",
              "      <td>4</td>\n",
              "      <td>4</td>\n",
              "      <td>20</td>\n",
              "      <td>1</td>\n",
              "      <td>2</td>\n",
              "      <td>2</td>\n",
              "      <td>...</td>\n",
              "      <td>18.59</td>\n",
              "      <td>3.80</td>\n",
              "      <td>14.69</td>\n",
              "      <td>557.74</td>\n",
              "      <td>356.88</td>\n",
              "      <td>41.22</td>\n",
              "      <td>59.52</td>\n",
              "      <td>592.22</td>\n",
              "      <td>1245.16</td>\n",
              "      <td>18.53</td>\n",
              "      <td>4078.26</td>\n",
              "      <td>3442.73</td>\n",
              "      <td>1311.98</td>\n",
              "      <td>1025.37</td>\n",
              "      <td>3439.38</td>\n",
              "      <td>738.75</td>\n",
              "      <td>2.14</td>\n",
              "      <td>2.26</td>\n",
              "      <td>16.75</td>\n",
              "      <td>79.20</td>\n",
              "      <td>1.0</td>\n",
              "      <td>2.0</td>\n",
              "      <td>1.0</td>\n",
              "      <td>80.38</td>\n",
              "      <td>10.0</td>\n",
              "      <td>0.00</td>\n",
              "      <td>5.0</td>\n",
              "      <td>5.0</td>\n",
              "      <td>5.00</td>\n",
              "      <td>5.00</td>\n",
              "      <td>10.0</td>\n",
              "      <td>0.0</td>\n",
              "      <td>10.00</td>\n",
              "      <td>5.38</td>\n",
              "      <td>10.00</td>\n",
              "      <td>5.0</td>\n",
              "      <td>5.0</td>\n",
              "      <td>5.00</td>\n",
              "      <td>0.0</td>\n",
              "      <td>1.0</td>\n",
              "    </tr>\n",
              "  </tbody>\n",
              "</table>\n",
              "<p>5 rows × 801 columns</p>\n",
              "</div>"
            ],
            "text/plain": [
              "          mod_d          ID    ID_fam  ...  HEI_EN  BloodPressure  metabolic\n",
              "0   2020.09.01.  A651172801  A6511728  ...    5.00            1.0        0.0\n",
              "3   2020.09.01.  A651183002  A6511830  ...     NaN            1.0        1.0\n",
              "8   2020.09.01.  A651205101  A6512051  ...    2.19            0.0        0.0\n",
              "10  2020.09.01.  A651205103  A6512051  ...     NaN            NaN        NaN\n",
              "13  2020.09.01.  A651235701  A6512357  ...    5.00            0.0        1.0\n",
              "\n",
              "[5 rows x 801 columns]"
            ]
          },
          "metadata": {
            "tags": []
          },
          "execution_count": 72
        }
      ]
    },
    {
      "cell_type": "markdown",
      "metadata": {
        "id": "QznEsESdyWGs"
      },
      "source": [
        "설명 변수 추출하기"
      ]
    },
    {
      "cell_type": "code",
      "metadata": {
        "id": "QHKHyscgyVUh"
      },
      "source": [
        "df = df_after.loc[:,['age','npins','D_1_1','DI1_dg','BO1','BD2_31','BP1','BS3_2','BE5_1','BE3_31','metabolic']]"
      ],
      "execution_count": 74,
      "outputs": []
    },
    {
      "cell_type": "code",
      "metadata": {
        "colab": {
          "base_uri": "https://localhost:8080/"
        },
        "id": "EEplrjI8q8sp",
        "outputId": "d7d7ddd4-f4f2-4690-a0d1-86f3cc3657b4"
      },
      "source": [
        "df.info()"
      ],
      "execution_count": 76,
      "outputs": [
        {
          "output_type": "stream",
          "text": [
            "<class 'pandas.core.frame.DataFrame'>\n",
            "Int64Index: 3665 entries, 0 to 8148\n",
            "Data columns (total 11 columns):\n",
            " #   Column     Non-Null Count  Dtype  \n",
            "---  ------     --------------  -----  \n",
            " 0   age        3665 non-null   int64  \n",
            " 1   npins      3665 non-null   int64  \n",
            " 2   D_1_1      3497 non-null   float64\n",
            " 3   DI1_dg     3497 non-null   float64\n",
            " 4   BO1        3497 non-null   float64\n",
            " 5   BD2_31     3497 non-null   float64\n",
            " 6   BP1        3497 non-null   float64\n",
            " 7   BS3_2      3497 non-null   float64\n",
            " 8   BE5_1      3497 non-null   float64\n",
            " 9   BE3_31     3497 non-null   float64\n",
            " 10  metabolic  2897 non-null   float64\n",
            "dtypes: float64(9), int64(2)\n",
            "memory usage: 343.6 KB\n"
          ],
          "name": "stdout"
        }
      ]
    },
    {
      "cell_type": "code",
      "metadata": {
        "id": "zpuqVZKqrFa2"
      },
      "source": [
        "df = df.copy()"
      ],
      "execution_count": 77,
      "outputs": []
    },
    {
      "cell_type": "markdown",
      "metadata": {
        "id": "lh7-p_Uv0LpQ"
      },
      "source": [
        "데이터의 각 변수의 기술 통계량 획인"
      ]
    },
    {
      "cell_type": "code",
      "metadata": {
        "id": "KdGbx6j70CTh",
        "colab": {
          "base_uri": "https://localhost:8080/",
          "height": 0
        },
        "outputId": "7b771bc2-3c96-45c6-8964-68ca43caf828"
      },
      "source": [
        "df.describe()"
      ],
      "execution_count": 78,
      "outputs": [
        {
          "output_type": "execute_result",
          "data": {
            "text/html": [
              "<div>\n",
              "<style scoped>\n",
              "    .dataframe tbody tr th:only-of-type {\n",
              "        vertical-align: middle;\n",
              "    }\n",
              "\n",
              "    .dataframe tbody tr th {\n",
              "        vertical-align: top;\n",
              "    }\n",
              "\n",
              "    .dataframe thead th {\n",
              "        text-align: right;\n",
              "    }\n",
              "</style>\n",
              "<table border=\"1\" class=\"dataframe\">\n",
              "  <thead>\n",
              "    <tr style=\"text-align: right;\">\n",
              "      <th></th>\n",
              "      <th>age</th>\n",
              "      <th>npins</th>\n",
              "      <th>D_1_1</th>\n",
              "      <th>DI1_dg</th>\n",
              "      <th>BO1</th>\n",
              "      <th>BD2_31</th>\n",
              "      <th>BP1</th>\n",
              "      <th>BS3_2</th>\n",
              "      <th>BE5_1</th>\n",
              "      <th>BE3_31</th>\n",
              "      <th>metabolic</th>\n",
              "    </tr>\n",
              "  </thead>\n",
              "  <tbody>\n",
              "    <tr>\n",
              "      <th>count</th>\n",
              "      <td>3665.000000</td>\n",
              "      <td>3665.000000</td>\n",
              "      <td>3497.000000</td>\n",
              "      <td>3497.000000</td>\n",
              "      <td>3497.000000</td>\n",
              "      <td>3497.000000</td>\n",
              "      <td>3497.000000</td>\n",
              "      <td>3497.000000</td>\n",
              "      <td>3497.000000</td>\n",
              "      <td>3497.000000</td>\n",
              "      <td>2897.000000</td>\n",
              "    </tr>\n",
              "    <tr>\n",
              "      <th>mean</th>\n",
              "      <td>40.553342</td>\n",
              "      <td>1.263847</td>\n",
              "      <td>2.893909</td>\n",
              "      <td>2.149557</td>\n",
              "      <td>3.586217</td>\n",
              "      <td>4.780669</td>\n",
              "      <td>3.806977</td>\n",
              "      <td>654.629683</td>\n",
              "      <td>3.316843</td>\n",
              "      <td>22.887046</td>\n",
              "      <td>0.283051</td>\n",
              "    </tr>\n",
              "    <tr>\n",
              "      <th>std</th>\n",
              "      <td>23.339587</td>\n",
              "      <td>0.779069</td>\n",
              "      <td>1.539863</td>\n",
              "      <td>3.338236</td>\n",
              "      <td>1.721470</td>\n",
              "      <td>2.743453</td>\n",
              "      <td>2.106620</td>\n",
              "      <td>388.875651</td>\n",
              "      <td>2.957021</td>\n",
              "      <td>35.062923</td>\n",
              "      <td>0.450559</td>\n",
              "    </tr>\n",
              "    <tr>\n",
              "      <th>min</th>\n",
              "      <td>1.000000</td>\n",
              "      <td>1.000000</td>\n",
              "      <td>1.000000</td>\n",
              "      <td>0.000000</td>\n",
              "      <td>1.000000</td>\n",
              "      <td>1.000000</td>\n",
              "      <td>1.000000</td>\n",
              "      <td>1.000000</td>\n",
              "      <td>1.000000</td>\n",
              "      <td>1.000000</td>\n",
              "      <td>0.000000</td>\n",
              "    </tr>\n",
              "    <tr>\n",
              "      <th>25%</th>\n",
              "      <td>19.000000</td>\n",
              "      <td>1.000000</td>\n",
              "      <td>2.000000</td>\n",
              "      <td>0.000000</td>\n",
              "      <td>3.000000</td>\n",
              "      <td>2.000000</td>\n",
              "      <td>3.000000</td>\n",
              "      <td>25.000000</td>\n",
              "      <td>1.000000</td>\n",
              "      <td>3.000000</td>\n",
              "      <td>0.000000</td>\n",
              "    </tr>\n",
              "    <tr>\n",
              "      <th>50%</th>\n",
              "      <td>42.000000</td>\n",
              "      <td>1.000000</td>\n",
              "      <td>3.000000</td>\n",
              "      <td>0.000000</td>\n",
              "      <td>3.000000</td>\n",
              "      <td>4.000000</td>\n",
              "      <td>3.000000</td>\n",
              "      <td>888.000000</td>\n",
              "      <td>1.000000</td>\n",
              "      <td>6.000000</td>\n",
              "      <td>0.000000</td>\n",
              "    </tr>\n",
              "    <tr>\n",
              "      <th>75%</th>\n",
              "      <td>60.000000</td>\n",
              "      <td>1.000000</td>\n",
              "      <td>3.000000</td>\n",
              "      <td>1.000000</td>\n",
              "      <td>4.000000</td>\n",
              "      <td>8.000000</td>\n",
              "      <td>4.000000</td>\n",
              "      <td>888.000000</td>\n",
              "      <td>6.000000</td>\n",
              "      <td>8.000000</td>\n",
              "      <td>1.000000</td>\n",
              "    </tr>\n",
              "    <tr>\n",
              "      <th>max</th>\n",
              "      <td>80.000000</td>\n",
              "      <td>9.000000</td>\n",
              "      <td>9.000000</td>\n",
              "      <td>8.000000</td>\n",
              "      <td>9.000000</td>\n",
              "      <td>9.000000</td>\n",
              "      <td>9.000000</td>\n",
              "      <td>999.000000</td>\n",
              "      <td>9.000000</td>\n",
              "      <td>99.000000</td>\n",
              "      <td>1.000000</td>\n",
              "    </tr>\n",
              "  </tbody>\n",
              "</table>\n",
              "</div>"
            ],
            "text/plain": [
              "               age        npins  ...       BE3_31    metabolic\n",
              "count  3665.000000  3665.000000  ...  3497.000000  2897.000000\n",
              "mean     40.553342     1.263847  ...    22.887046     0.283051\n",
              "std      23.339587     0.779069  ...    35.062923     0.450559\n",
              "min       1.000000     1.000000  ...     1.000000     0.000000\n",
              "25%      19.000000     1.000000  ...     3.000000     0.000000\n",
              "50%      42.000000     1.000000  ...     6.000000     0.000000\n",
              "75%      60.000000     1.000000  ...     8.000000     1.000000\n",
              "max      80.000000     9.000000  ...    99.000000     1.000000\n",
              "\n",
              "[8 rows x 11 columns]"
            ]
          },
          "metadata": {
            "tags": []
          },
          "execution_count": 78
        }
      ]
    },
    {
      "cell_type": "markdown",
      "metadata": {
        "id": "Z-D7rUrRybpQ"
      },
      "source": [
        "데이터의 Null값(결측치) 체크"
      ]
    },
    {
      "cell_type": "markdown",
      "metadata": {
        "id": "nAcBVmJN4QGS"
      },
      "source": [
        "- 만약 설문조사 데이터셋이라면 88,99같은 값들을 결측치로 바꿔줘야 함"
      ]
    },
    {
      "cell_type": "code",
      "metadata": {
        "id": "UC07eWBBygTA",
        "colab": {
          "base_uri": "https://localhost:8080/"
        },
        "outputId": "0ab80bb8-9517-42dc-e8e4-5c27428dd200"
      },
      "source": [
        "df.isnull().sum()"
      ],
      "execution_count": 79,
      "outputs": [
        {
          "output_type": "execute_result",
          "data": {
            "text/plain": [
              "age            0\n",
              "npins          0\n",
              "D_1_1        168\n",
              "DI1_dg       168\n",
              "BO1          168\n",
              "BD2_31       168\n",
              "BP1          168\n",
              "BS3_2        168\n",
              "BE5_1        168\n",
              "BE3_31       168\n",
              "metabolic    768\n",
              "dtype: int64"
            ]
          },
          "metadata": {
            "tags": []
          },
          "execution_count": 79
        }
      ]
    },
    {
      "cell_type": "code",
      "metadata": {
        "id": "CEHjVvKMrx6d"
      },
      "source": [
        "# df_all_b = df_all.loc[df_all[\"sex\"]==1,:]\r\n",
        "df_1 = df.loc[(df['metabolic'] == 1) | (df['metabolic']== 0), : ]"
      ],
      "execution_count": 83,
      "outputs": []
    },
    {
      "cell_type": "code",
      "metadata": {
        "colab": {
          "base_uri": "https://localhost:8080/"
        },
        "id": "thVuV5pWsN3U",
        "outputId": "55a574db-5d0c-42e9-9734-f846fe026d32"
      },
      "source": [
        "df_1.isnull().sum()"
      ],
      "execution_count": 86,
      "outputs": [
        {
          "output_type": "execute_result",
          "data": {
            "text/plain": [
              "age          0\n",
              "npins        0\n",
              "D_1_1        1\n",
              "DI1_dg       1\n",
              "BO1          1\n",
              "BD2_31       1\n",
              "BP1          1\n",
              "BS3_2        1\n",
              "BE5_1        1\n",
              "BE3_31       1\n",
              "metabolic    0\n",
              "dtype: int64"
            ]
          },
          "metadata": {
            "tags": []
          },
          "execution_count": 86
        }
      ]
    },
    {
      "cell_type": "code",
      "metadata": {
        "id": "s3Omm3vJsfd_"
      },
      "source": [
        "df = df_1.copy()"
      ],
      "execution_count": 84,
      "outputs": []
    },
    {
      "cell_type": "markdown",
      "metadata": {
        "id": "qh41MCzxsqSL"
      },
      "source": [
        "결측치 대체"
      ]
    },
    {
      "cell_type": "markdown",
      "metadata": {
        "id": "N89PFWh6tjhy"
      },
      "source": [
        "변수 이용 설명서 확인해보고 무응답 등 사실상 결측치에 해당하는 데이터 확인 후 결측치로 대체"
      ]
    },
    {
      "cell_type": "code",
      "metadata": {
        "colab": {
          "base_uri": "https://localhost:8080/"
        },
        "id": "TO8GRor2s9P7",
        "outputId": "01587733-7f4d-4681-b15b-fbe335a803d5"
      },
      "source": [
        "print(df['npins'].value_counts()) \r\n",
        "df.loc[df['npins'] == 9 , 'npins'] = np.nan  #na 값 처리\r\n",
        "print(df['npins'].value_counts())"
      ],
      "execution_count": 87,
      "outputs": [
        {
          "output_type": "stream",
          "text": [
            "1    2215\n",
            "2     663\n",
            "9      19\n",
            "Name: npins, dtype: int64\n",
            "1.0    2215\n",
            "2.0     663\n",
            "Name: npins, dtype: int64\n"
          ],
          "name": "stdout"
        }
      ]
    },
    {
      "cell_type": "code",
      "metadata": {
        "colab": {
          "base_uri": "https://localhost:8080/"
        },
        "id": "nONuKvSQtKez",
        "outputId": "4e3f2480-98de-495e-b26e-ecdced40c166"
      },
      "source": [
        "print(df['D_1_1'].value_counts()) \r\n",
        "df.loc[df['D_1_1'] == 9 , 'D_1_1'] = np.nan  #na 값 처리\r\n",
        "print(df['D_1_1'].value_counts())"
      ],
      "execution_count": 88,
      "outputs": [
        {
          "output_type": "stream",
          "text": [
            "3.0    1334\n",
            "2.0     845\n",
            "4.0     335\n",
            "1.0     190\n",
            "9.0     120\n",
            "5.0      72\n",
            "Name: D_1_1, dtype: int64\n",
            "3.0    1334\n",
            "2.0     845\n",
            "4.0     335\n",
            "1.0     190\n",
            "5.0      72\n",
            "Name: D_1_1, dtype: int64\n"
          ],
          "name": "stdout"
        }
      ]
    },
    {
      "cell_type": "code",
      "metadata": {
        "colab": {
          "base_uri": "https://localhost:8080/"
        },
        "id": "b6J8YMeytQdS",
        "outputId": "1549d4e3-27c2-4bee-edf1-0856a1a61487"
      },
      "source": [
        "print(df['DI1_dg'].value_counts()) \r\n",
        "df.loc[(df['DI1_dg'] == 8) |(df['DI1_dg'] == 9), 'DI1_dg'] = np.nan  #na 값 처리\r\n",
        "print(df['DI1_dg'].value_counts())"
      ],
      "execution_count": 89,
      "outputs": [
        {
          "output_type": "stream",
          "text": [
            "0.0    1865\n",
            "1.0     688\n",
            "8.0     343\n",
            "Name: DI1_dg, dtype: int64\n",
            "0.0    1865\n",
            "1.0     688\n",
            "Name: DI1_dg, dtype: int64\n"
          ],
          "name": "stdout"
        }
      ]
    },
    {
      "cell_type": "code",
      "metadata": {
        "colab": {
          "base_uri": "https://localhost:8080/"
        },
        "id": "6enQLamVtcGQ",
        "outputId": "ce56bd42-e7ee-489d-f049-fe16270c344f"
      },
      "source": [
        "print(df['BO1'].value_counts()) \r\n",
        "df.loc[(df['BO1'] == 8) |(df['BO1'] == 9), 'BO1'] = np.nan  #na 값 처리\r\n",
        "print(df['BO1'].value_counts())"
      ],
      "execution_count": 90,
      "outputs": [
        {
          "output_type": "stream",
          "text": [
            "3.0    1105\n",
            "4.0     957\n",
            "2.0     454\n",
            "5.0     178\n",
            "1.0     162\n",
            "9.0      40\n",
            "Name: BO1, dtype: int64\n",
            "3.0    1105\n",
            "4.0     957\n",
            "2.0     454\n",
            "5.0     178\n",
            "1.0     162\n",
            "Name: BO1, dtype: int64\n"
          ],
          "name": "stdout"
        }
      ]
    },
    {
      "cell_type": "code",
      "metadata": {
        "colab": {
          "base_uri": "https://localhost:8080/"
        },
        "id": "cSXC0x65tn0k",
        "outputId": "6792fe59-6327-4788-ca7f-7eca193825ee"
      },
      "source": [
        "print(df['BD2_31'].value_counts()) \r\n",
        "df.loc[(df['BD2_31'] == 8) |(df['BD2_31'] == 9), 'BD2_31'] = np.nan  #na 값 처리\r\n",
        "print(df['BD2_31'].value_counts())"
      ],
      "execution_count": 91,
      "outputs": [
        {
          "output_type": "stream",
          "text": [
            "8.0    719\n",
            "4.0    562\n",
            "1.0    505\n",
            "2.0    419\n",
            "3.0    388\n",
            "5.0    262\n",
            "9.0     41\n",
            "Name: BD2_31, dtype: int64\n",
            "4.0    562\n",
            "1.0    505\n",
            "2.0    419\n",
            "3.0    388\n",
            "5.0    262\n",
            "Name: BD2_31, dtype: int64\n"
          ],
          "name": "stdout"
        }
      ]
    },
    {
      "cell_type": "code",
      "metadata": {
        "colab": {
          "base_uri": "https://localhost:8080/"
        },
        "id": "9p_CaPS0ttVH",
        "outputId": "93a21864-e3ef-4943-e1cf-21a24881e21e"
      },
      "source": [
        "print(df['BP1'].value_counts()) \r\n",
        "df.loc[(df['BP1'] == 8) |(df['BP1'] == 9), 'BP1'] = np.nan  #na 값 처리\r\n",
        "print(df['BP1'].value_counts())"
      ],
      "execution_count": 92,
      "outputs": [
        {
          "output_type": "stream",
          "text": [
            "3.0    1608\n",
            "2.0     583\n",
            "4.0     471\n",
            "1.0     116\n",
            "8.0      77\n",
            "9.0      41\n",
            "Name: BP1, dtype: int64\n",
            "3.0    1608\n",
            "2.0     583\n",
            "4.0     471\n",
            "1.0     116\n",
            "Name: BP1, dtype: int64\n"
          ],
          "name": "stdout"
        }
      ]
    },
    {
      "cell_type": "code",
      "metadata": {
        "colab": {
          "base_uri": "https://localhost:8080/"
        },
        "id": "xNqdy3tZt1V2",
        "outputId": "05d39081-0c5a-45e9-c3fb-bb6904cb751b"
      },
      "source": [
        "print(df['BS3_2'].value_counts()) \r\n",
        "df.loc[(df['BS3_2'] == 888) |(df['BS3_2'] == 999), 'BS3_2'] = np.nan  #na 값 처리\r\n",
        "print(df['BS3_2'].value_counts())"
      ],
      "execution_count": 93,
      "outputs": [
        {
          "output_type": "stream",
          "text": [
            "888.0    1944\n",
            "20.0      233\n",
            "10.0      206\n",
            "15.0      135\n",
            "30.0       45\n",
            "999.0      41\n",
            "5.0        36\n",
            "3.0        34\n",
            "12.0       30\n",
            "7.0        28\n",
            "6.0        28\n",
            "2.0        18\n",
            "13.0       16\n",
            "1.0        15\n",
            "4.0        14\n",
            "25.0       13\n",
            "17.0       12\n",
            "40.0       11\n",
            "18.0        8\n",
            "8.0         6\n",
            "14.0        6\n",
            "16.0        5\n",
            "23.0        3\n",
            "11.0        2\n",
            "35.0        2\n",
            "9.0         2\n",
            "38.0        1\n",
            "26.0        1\n",
            "50.0        1\n",
            "Name: BS3_2, dtype: int64\n",
            "20.0    233\n",
            "10.0    206\n",
            "15.0    135\n",
            "30.0     45\n",
            "5.0      36\n",
            "3.0      34\n",
            "12.0     30\n",
            "7.0      28\n",
            "6.0      28\n",
            "2.0      18\n",
            "13.0     16\n",
            "1.0      15\n",
            "4.0      14\n",
            "25.0     13\n",
            "17.0     12\n",
            "40.0     11\n",
            "18.0      8\n",
            "8.0       6\n",
            "14.0      6\n",
            "16.0      5\n",
            "23.0      3\n",
            "11.0      2\n",
            "9.0       2\n",
            "35.0      2\n",
            "50.0      1\n",
            "26.0      1\n",
            "38.0      1\n",
            "Name: BS3_2, dtype: int64\n"
          ],
          "name": "stdout"
        }
      ]
    },
    {
      "cell_type": "code",
      "metadata": {
        "colab": {
          "base_uri": "https://localhost:8080/"
        },
        "id": "fVdksMlPt9Fz",
        "outputId": "a86d4d21-75ea-4781-f2bf-b40f3a286eec"
      },
      "source": [
        "print(df['BE5_1'].value_counts()) \r\n",
        "df.loc[(df['BE5_1'] == 8) |(df['BE5_1'] == 9), 'BE5_1'] = np.nan  #na 값 처리\r\n",
        "print(df['BE5_1'].value_counts())"
      ],
      "execution_count": 94,
      "outputs": [
        {
          "output_type": "stream",
          "text": [
            "1.0    1839\n",
            "6.0     282\n",
            "4.0     181\n",
            "3.0     163\n",
            "9.0     133\n",
            "2.0     130\n",
            "5.0      91\n",
            "8.0      77\n",
            "Name: BE5_1, dtype: int64\n",
            "1.0    1839\n",
            "6.0     282\n",
            "4.0     181\n",
            "3.0     163\n",
            "2.0     130\n",
            "5.0      91\n",
            "Name: BE5_1, dtype: int64\n"
          ],
          "name": "stdout"
        }
      ]
    },
    {
      "cell_type": "code",
      "metadata": {
        "colab": {
          "base_uri": "https://localhost:8080/"
        },
        "id": "C2ikN5KSuBVe",
        "outputId": "a5018ce7-0380-4231-87eb-c8b61474f55c"
      },
      "source": [
        "print(df['BE3_31'].value_counts()) \r\n",
        "df.loc[(df['BE3_31'] == 8) |(df['BE3_31'] == 9), 'BE3_31'] = np.nan  #na 값 처리\r\n",
        "print(df['BE3_31'].value_counts())"
      ],
      "execution_count": 95,
      "outputs": [
        {
          "output_type": "stream",
          "text": [
            "8.0     791\n",
            "1.0     490\n",
            "4.0     320\n",
            "3.0     285\n",
            "6.0     285\n",
            "5.0     177\n",
            "2.0     172\n",
            "7.0     160\n",
            "99.0    139\n",
            "88.0     77\n",
            "Name: BE3_31, dtype: int64\n",
            "1.0     490\n",
            "4.0     320\n",
            "3.0     285\n",
            "6.0     285\n",
            "5.0     177\n",
            "2.0     172\n",
            "7.0     160\n",
            "99.0    139\n",
            "88.0     77\n",
            "Name: BE3_31, dtype: int64\n"
          ],
          "name": "stdout"
        }
      ]
    },
    {
      "cell_type": "code",
      "metadata": {
        "colab": {
          "base_uri": "https://localhost:8080/",
          "height": 0
        },
        "id": "Az5GocK9ubVr",
        "outputId": "5d6bfcba-dd36-4369-9d1c-06a293d92676"
      },
      "source": [
        "df"
      ],
      "execution_count": 99,
      "outputs": [
        {
          "output_type": "execute_result",
          "data": {
            "text/html": [
              "<div>\n",
              "<style scoped>\n",
              "    .dataframe tbody tr th:only-of-type {\n",
              "        vertical-align: middle;\n",
              "    }\n",
              "\n",
              "    .dataframe tbody tr th {\n",
              "        vertical-align: top;\n",
              "    }\n",
              "\n",
              "    .dataframe thead th {\n",
              "        text-align: right;\n",
              "    }\n",
              "</style>\n",
              "<table border=\"1\" class=\"dataframe\">\n",
              "  <thead>\n",
              "    <tr style=\"text-align: right;\">\n",
              "      <th></th>\n",
              "      <th>age</th>\n",
              "      <th>npins</th>\n",
              "      <th>D_1_1</th>\n",
              "      <th>DI1_dg</th>\n",
              "      <th>BO1</th>\n",
              "      <th>BD2_31</th>\n",
              "      <th>BP1</th>\n",
              "      <th>BS3_2</th>\n",
              "      <th>BE5_1</th>\n",
              "      <th>BE3_31</th>\n",
              "      <th>metabolic</th>\n",
              "    </tr>\n",
              "  </thead>\n",
              "  <tbody>\n",
              "    <tr>\n",
              "      <th>0</th>\n",
              "      <td>61</td>\n",
              "      <td>1.0</td>\n",
              "      <td>3.0</td>\n",
              "      <td>1.0</td>\n",
              "      <td>4.0</td>\n",
              "      <td>3.0</td>\n",
              "      <td>4.0</td>\n",
              "      <td>NaN</td>\n",
              "      <td>2.0</td>\n",
              "      <td>6.0</td>\n",
              "      <td>0.0</td>\n",
              "    </tr>\n",
              "    <tr>\n",
              "      <th>3</th>\n",
              "      <td>39</td>\n",
              "      <td>1.0</td>\n",
              "      <td>4.0</td>\n",
              "      <td>0.0</td>\n",
              "      <td>5.0</td>\n",
              "      <td>1.0</td>\n",
              "      <td>2.0</td>\n",
              "      <td>NaN</td>\n",
              "      <td>1.0</td>\n",
              "      <td>3.0</td>\n",
              "      <td>1.0</td>\n",
              "    </tr>\n",
              "    <tr>\n",
              "      <th>8</th>\n",
              "      <td>38</td>\n",
              "      <td>1.0</td>\n",
              "      <td>2.0</td>\n",
              "      <td>0.0</td>\n",
              "      <td>4.0</td>\n",
              "      <td>NaN</td>\n",
              "      <td>2.0</td>\n",
              "      <td>NaN</td>\n",
              "      <td>1.0</td>\n",
              "      <td>3.0</td>\n",
              "      <td>0.0</td>\n",
              "    </tr>\n",
              "    <tr>\n",
              "      <th>13</th>\n",
              "      <td>61</td>\n",
              "      <td>1.0</td>\n",
              "      <td>2.0</td>\n",
              "      <td>1.0</td>\n",
              "      <td>4.0</td>\n",
              "      <td>3.0</td>\n",
              "      <td>4.0</td>\n",
              "      <td>NaN</td>\n",
              "      <td>1.0</td>\n",
              "      <td>NaN</td>\n",
              "      <td>1.0</td>\n",
              "    </tr>\n",
              "    <tr>\n",
              "      <th>14</th>\n",
              "      <td>49</td>\n",
              "      <td>1.0</td>\n",
              "      <td>3.0</td>\n",
              "      <td>0.0</td>\n",
              "      <td>3.0</td>\n",
              "      <td>1.0</td>\n",
              "      <td>3.0</td>\n",
              "      <td>NaN</td>\n",
              "      <td>1.0</td>\n",
              "      <td>7.0</td>\n",
              "      <td>0.0</td>\n",
              "    </tr>\n",
              "    <tr>\n",
              "      <th>...</th>\n",
              "      <td>...</td>\n",
              "      <td>...</td>\n",
              "      <td>...</td>\n",
              "      <td>...</td>\n",
              "      <td>...</td>\n",
              "      <td>...</td>\n",
              "      <td>...</td>\n",
              "      <td>...</td>\n",
              "      <td>...</td>\n",
              "      <td>...</td>\n",
              "      <td>...</td>\n",
              "    </tr>\n",
              "    <tr>\n",
              "      <th>8136</th>\n",
              "      <td>13</td>\n",
              "      <td>1.0</td>\n",
              "      <td>4.0</td>\n",
              "      <td>NaN</td>\n",
              "      <td>4.0</td>\n",
              "      <td>NaN</td>\n",
              "      <td>3.0</td>\n",
              "      <td>NaN</td>\n",
              "      <td>1.0</td>\n",
              "      <td>2.0</td>\n",
              "      <td>0.0</td>\n",
              "    </tr>\n",
              "    <tr>\n",
              "      <th>8138</th>\n",
              "      <td>46</td>\n",
              "      <td>1.0</td>\n",
              "      <td>2.0</td>\n",
              "      <td>0.0</td>\n",
              "      <td>3.0</td>\n",
              "      <td>4.0</td>\n",
              "      <td>3.0</td>\n",
              "      <td>NaN</td>\n",
              "      <td>1.0</td>\n",
              "      <td>4.0</td>\n",
              "      <td>0.0</td>\n",
              "    </tr>\n",
              "    <tr>\n",
              "      <th>8142</th>\n",
              "      <td>46</td>\n",
              "      <td>1.0</td>\n",
              "      <td>1.0</td>\n",
              "      <td>0.0</td>\n",
              "      <td>3.0</td>\n",
              "      <td>4.0</td>\n",
              "      <td>3.0</td>\n",
              "      <td>NaN</td>\n",
              "      <td>1.0</td>\n",
              "      <td>NaN</td>\n",
              "      <td>0.0</td>\n",
              "    </tr>\n",
              "    <tr>\n",
              "      <th>8145</th>\n",
              "      <td>75</td>\n",
              "      <td>2.0</td>\n",
              "      <td>2.0</td>\n",
              "      <td>1.0</td>\n",
              "      <td>5.0</td>\n",
              "      <td>2.0</td>\n",
              "      <td>4.0</td>\n",
              "      <td>NaN</td>\n",
              "      <td>1.0</td>\n",
              "      <td>1.0</td>\n",
              "      <td>1.0</td>\n",
              "    </tr>\n",
              "    <tr>\n",
              "      <th>8148</th>\n",
              "      <td>56</td>\n",
              "      <td>1.0</td>\n",
              "      <td>3.0</td>\n",
              "      <td>1.0</td>\n",
              "      <td>4.0</td>\n",
              "      <td>3.0</td>\n",
              "      <td>2.0</td>\n",
              "      <td>NaN</td>\n",
              "      <td>1.0</td>\n",
              "      <td>4.0</td>\n",
              "      <td>1.0</td>\n",
              "    </tr>\n",
              "  </tbody>\n",
              "</table>\n",
              "<p>2897 rows × 11 columns</p>\n",
              "</div>"
            ],
            "text/plain": [
              "      age  npins  D_1_1  DI1_dg  BO1  ...  BP1  BS3_2  BE5_1  BE3_31  metabolic\n",
              "0      61    1.0    3.0     1.0  4.0  ...  4.0    NaN    2.0     6.0        0.0\n",
              "3      39    1.0    4.0     0.0  5.0  ...  2.0    NaN    1.0     3.0        1.0\n",
              "8      38    1.0    2.0     0.0  4.0  ...  2.0    NaN    1.0     3.0        0.0\n",
              "13     61    1.0    2.0     1.0  4.0  ...  4.0    NaN    1.0     NaN        1.0\n",
              "14     49    1.0    3.0     0.0  3.0  ...  3.0    NaN    1.0     7.0        0.0\n",
              "...   ...    ...    ...     ...  ...  ...  ...    ...    ...     ...        ...\n",
              "8136   13    1.0    4.0     NaN  4.0  ...  3.0    NaN    1.0     2.0        0.0\n",
              "8138   46    1.0    2.0     0.0  3.0  ...  3.0    NaN    1.0     4.0        0.0\n",
              "8142   46    1.0    1.0     0.0  3.0  ...  3.0    NaN    1.0     NaN        0.0\n",
              "8145   75    2.0    2.0     1.0  5.0  ...  4.0    NaN    1.0     1.0        1.0\n",
              "8148   56    1.0    3.0     1.0  4.0  ...  2.0    NaN    1.0     4.0        1.0\n",
              "\n",
              "[2897 rows x 11 columns]"
            ]
          },
          "metadata": {
            "tags": []
          },
          "execution_count": 99
        }
      ]
    },
    {
      "cell_type": "code",
      "metadata": {
        "colab": {
          "base_uri": "https://localhost:8080/"
        },
        "id": "--s2pF4HuGcW",
        "outputId": "a5681710-61c1-4f89-eb00-c8ac9876733f"
      },
      "source": [
        "print(df.isnull().sum())"
      ],
      "execution_count": 100,
      "outputs": [
        {
          "output_type": "stream",
          "text": [
            "age             0\n",
            "npins          19\n",
            "D_1_1         121\n",
            "DI1_dg        344\n",
            "BO1            41\n",
            "BD2_31        761\n",
            "BP1           119\n",
            "BS3_2        1986\n",
            "BE5_1         211\n",
            "BE3_31        792\n",
            "metabolic       0\n",
            "dtype: int64\n"
          ],
          "name": "stdout"
        }
      ]
    },
    {
      "cell_type": "markdown",
      "metadata": {
        "id": "VK1K219Oyj4c"
      },
      "source": [
        "Null 값이 있는 경우, 크게 그 값을 빼고 하는지, 혹은 결측치를 대치하는지 2개의 방법으로 나눌 수 있습니다. 각각의 방법에 대한 이름이 다르긴한데 보통 첫 번째 방법을 complete data analysis, 두 번째 방법을 Imputation이라고 이름 붙입니다."
      ]
    },
    {
      "cell_type": "code",
      "metadata": {
        "id": "VKN1GyfevAgm"
      },
      "source": [
        "df.drop(['BS3_2','BE3_31'], axis = 1, inplace = True)"
      ],
      "execution_count": 105,
      "outputs": []
    },
    {
      "cell_type": "code",
      "metadata": {
        "id": "sMHUuZAEvsc1"
      },
      "source": [
        "df.drop('BD2_31', axis = 1, inplace = True)"
      ],
      "execution_count": 109,
      "outputs": []
    },
    {
      "cell_type": "code",
      "metadata": {
        "colab": {
          "base_uri": "https://localhost:8080/"
        },
        "id": "ziuJa0x6v818",
        "outputId": "9502352c-eb63-4b79-ed94-b638c6e3e783"
      },
      "source": [
        "df.isnull().sum()"
      ],
      "execution_count": 110,
      "outputs": [
        {
          "output_type": "execute_result",
          "data": {
            "text/plain": [
              "age            0\n",
              "npins         19\n",
              "D_1_1        121\n",
              "DI1_dg       344\n",
              "BO1           41\n",
              "BP1          119\n",
              "BE5_1        211\n",
              "metabolic      0\n",
              "dtype: int64"
            ]
          },
          "metadata": {
            "tags": []
          },
          "execution_count": 110
        }
      ]
    },
    {
      "cell_type": "code",
      "metadata": {
        "colab": {
          "base_uri": "https://localhost:8080/",
          "height": 0
        },
        "id": "XxbH-bkCwFs3",
        "outputId": "a799c2e0-535a-4d97-fd72-b01ea50b7d09"
      },
      "source": [
        "df"
      ],
      "execution_count": 113,
      "outputs": [
        {
          "output_type": "execute_result",
          "data": {
            "text/html": [
              "<div>\n",
              "<style scoped>\n",
              "    .dataframe tbody tr th:only-of-type {\n",
              "        vertical-align: middle;\n",
              "    }\n",
              "\n",
              "    .dataframe tbody tr th {\n",
              "        vertical-align: top;\n",
              "    }\n",
              "\n",
              "    .dataframe thead th {\n",
              "        text-align: right;\n",
              "    }\n",
              "</style>\n",
              "<table border=\"1\" class=\"dataframe\">\n",
              "  <thead>\n",
              "    <tr style=\"text-align: right;\">\n",
              "      <th></th>\n",
              "      <th>age</th>\n",
              "      <th>npins</th>\n",
              "      <th>D_1_1</th>\n",
              "      <th>DI1_dg</th>\n",
              "      <th>BO1</th>\n",
              "      <th>BP1</th>\n",
              "      <th>BE5_1</th>\n",
              "      <th>metabolic</th>\n",
              "    </tr>\n",
              "  </thead>\n",
              "  <tbody>\n",
              "    <tr>\n",
              "      <th>0</th>\n",
              "      <td>61</td>\n",
              "      <td>1.0</td>\n",
              "      <td>3.0</td>\n",
              "      <td>1.0</td>\n",
              "      <td>4.0</td>\n",
              "      <td>4.0</td>\n",
              "      <td>2.0</td>\n",
              "      <td>0.0</td>\n",
              "    </tr>\n",
              "    <tr>\n",
              "      <th>3</th>\n",
              "      <td>39</td>\n",
              "      <td>1.0</td>\n",
              "      <td>4.0</td>\n",
              "      <td>0.0</td>\n",
              "      <td>5.0</td>\n",
              "      <td>2.0</td>\n",
              "      <td>1.0</td>\n",
              "      <td>1.0</td>\n",
              "    </tr>\n",
              "    <tr>\n",
              "      <th>8</th>\n",
              "      <td>38</td>\n",
              "      <td>1.0</td>\n",
              "      <td>2.0</td>\n",
              "      <td>0.0</td>\n",
              "      <td>4.0</td>\n",
              "      <td>2.0</td>\n",
              "      <td>1.0</td>\n",
              "      <td>0.0</td>\n",
              "    </tr>\n",
              "    <tr>\n",
              "      <th>13</th>\n",
              "      <td>61</td>\n",
              "      <td>1.0</td>\n",
              "      <td>2.0</td>\n",
              "      <td>1.0</td>\n",
              "      <td>4.0</td>\n",
              "      <td>4.0</td>\n",
              "      <td>1.0</td>\n",
              "      <td>1.0</td>\n",
              "    </tr>\n",
              "    <tr>\n",
              "      <th>14</th>\n",
              "      <td>49</td>\n",
              "      <td>1.0</td>\n",
              "      <td>3.0</td>\n",
              "      <td>0.0</td>\n",
              "      <td>3.0</td>\n",
              "      <td>3.0</td>\n",
              "      <td>1.0</td>\n",
              "      <td>0.0</td>\n",
              "    </tr>\n",
              "    <tr>\n",
              "      <th>...</th>\n",
              "      <td>...</td>\n",
              "      <td>...</td>\n",
              "      <td>...</td>\n",
              "      <td>...</td>\n",
              "      <td>...</td>\n",
              "      <td>...</td>\n",
              "      <td>...</td>\n",
              "      <td>...</td>\n",
              "    </tr>\n",
              "    <tr>\n",
              "      <th>8136</th>\n",
              "      <td>13</td>\n",
              "      <td>1.0</td>\n",
              "      <td>4.0</td>\n",
              "      <td>NaN</td>\n",
              "      <td>4.0</td>\n",
              "      <td>3.0</td>\n",
              "      <td>1.0</td>\n",
              "      <td>0.0</td>\n",
              "    </tr>\n",
              "    <tr>\n",
              "      <th>8138</th>\n",
              "      <td>46</td>\n",
              "      <td>1.0</td>\n",
              "      <td>2.0</td>\n",
              "      <td>0.0</td>\n",
              "      <td>3.0</td>\n",
              "      <td>3.0</td>\n",
              "      <td>1.0</td>\n",
              "      <td>0.0</td>\n",
              "    </tr>\n",
              "    <tr>\n",
              "      <th>8142</th>\n",
              "      <td>46</td>\n",
              "      <td>1.0</td>\n",
              "      <td>1.0</td>\n",
              "      <td>0.0</td>\n",
              "      <td>3.0</td>\n",
              "      <td>3.0</td>\n",
              "      <td>1.0</td>\n",
              "      <td>0.0</td>\n",
              "    </tr>\n",
              "    <tr>\n",
              "      <th>8145</th>\n",
              "      <td>75</td>\n",
              "      <td>2.0</td>\n",
              "      <td>2.0</td>\n",
              "      <td>1.0</td>\n",
              "      <td>5.0</td>\n",
              "      <td>4.0</td>\n",
              "      <td>1.0</td>\n",
              "      <td>1.0</td>\n",
              "    </tr>\n",
              "    <tr>\n",
              "      <th>8148</th>\n",
              "      <td>56</td>\n",
              "      <td>1.0</td>\n",
              "      <td>3.0</td>\n",
              "      <td>1.0</td>\n",
              "      <td>4.0</td>\n",
              "      <td>2.0</td>\n",
              "      <td>1.0</td>\n",
              "      <td>1.0</td>\n",
              "    </tr>\n",
              "  </tbody>\n",
              "</table>\n",
              "<p>2897 rows × 8 columns</p>\n",
              "</div>"
            ],
            "text/plain": [
              "      age  npins  D_1_1  DI1_dg  BO1  BP1  BE5_1  metabolic\n",
              "0      61    1.0    3.0     1.0  4.0  4.0    2.0        0.0\n",
              "3      39    1.0    4.0     0.0  5.0  2.0    1.0        1.0\n",
              "8      38    1.0    2.0     0.0  4.0  2.0    1.0        0.0\n",
              "13     61    1.0    2.0     1.0  4.0  4.0    1.0        1.0\n",
              "14     49    1.0    3.0     0.0  3.0  3.0    1.0        0.0\n",
              "...   ...    ...    ...     ...  ...  ...    ...        ...\n",
              "8136   13    1.0    4.0     NaN  4.0  3.0    1.0        0.0\n",
              "8138   46    1.0    2.0     0.0  3.0  3.0    1.0        0.0\n",
              "8142   46    1.0    1.0     0.0  3.0  3.0    1.0        0.0\n",
              "8145   75    2.0    2.0     1.0  5.0  4.0    1.0        1.0\n",
              "8148   56    1.0    3.0     1.0  4.0  2.0    1.0        1.0\n",
              "\n",
              "[2897 rows x 8 columns]"
            ]
          },
          "metadata": {
            "tags": []
          },
          "execution_count": 113
        }
      ]
    },
    {
      "cell_type": "markdown",
      "metadata": {
        "id": "2GBz6nTeyoc-"
      },
      "source": [
        "Target Attribute 체크"
      ]
    },
    {
      "cell_type": "code",
      "metadata": {
        "id": "eaHAJi-Lyne5",
        "colab": {
          "base_uri": "https://localhost:8080/",
          "height": 0
        },
        "outputId": "3f4415ee-548d-447f-c893-7ab5441389e7"
      },
      "source": [
        "df['metabolic'].value_counts().plot(kind='bar') \r\n",
        "plt.show()"
      ],
      "execution_count": 111,
      "outputs": [
        {
          "output_type": "display_data",
          "data": {
            "image/png": "[encoded data removed]",
            "text/plain": [
              "<Figure size 432x288 with 1 Axes>"
            ]
          },
          "metadata": {
            "tags": [],
            "needs_background": "light"
          }
        }
      ]
    },
    {
      "cell_type": "code",
      "metadata": {
        "colab": {
          "base_uri": "https://localhost:8080/"
        },
        "id": "GeeGRQLtwpoU",
        "outputId": "fcbed457-3c8a-4876-cabd-622e9def3308"
      },
      "source": [
        "df.info()"
      ],
      "execution_count": 114,
      "outputs": [
        {
          "output_type": "stream",
          "text": [
            "<class 'pandas.core.frame.DataFrame'>\n",
            "Int64Index: 2897 entries, 0 to 8148\n",
            "Data columns (total 8 columns):\n",
            " #   Column     Non-Null Count  Dtype  \n",
            "---  ------     --------------  -----  \n",
            " 0   age        2897 non-null   int64  \n",
            " 1   npins      2878 non-null   float64\n",
            " 2   D_1_1      2776 non-null   float64\n",
            " 3   DI1_dg     2553 non-null   float64\n",
            " 4   BO1        2856 non-null   float64\n",
            " 5   BP1        2778 non-null   float64\n",
            " 6   BE5_1      2686 non-null   float64\n",
            " 7   metabolic  2897 non-null   float64\n",
            "dtypes: float64(7), int64(1)\n",
            "memory usage: 283.7 KB\n"
          ],
          "name": "stdout"
        }
      ]
    },
    {
      "cell_type": "code",
      "metadata": {
        "id": "VQezRC0rww7m"
      },
      "source": [
        "    df = df.astype('category')\r\n",
        "    df['age'] = df['age'].astype('float64')  # 연속형인 변수들 다시 float64로 처리 "
      ],
      "execution_count": 115,
      "outputs": []
    },
    {
      "cell_type": "code",
      "metadata": {
        "colab": {
          "base_uri": "https://localhost:8080/"
        },
        "id": "9hj2ZUy7w7-n",
        "outputId": "b7409507-ad4c-41cf-b131-6ace60881578"
      },
      "source": [
        "df.info()"
      ],
      "execution_count": 117,
      "outputs": [
        {
          "output_type": "stream",
          "text": [
            "<class 'pandas.core.frame.DataFrame'>\n",
            "Int64Index: 2897 entries, 0 to 8148\n",
            "Data columns (total 8 columns):\n",
            " #   Column     Non-Null Count  Dtype   \n",
            "---  ------     --------------  -----   \n",
            " 0   age        2897 non-null   float64 \n",
            " 1   npins      2878 non-null   category\n",
            " 2   D_1_1      2776 non-null   category\n",
            " 3   DI1_dg     2553 non-null   category\n",
            " 4   BO1        2856 non-null   category\n",
            " 5   BP1        2778 non-null   category\n",
            " 6   BE5_1      2686 non-null   category\n",
            " 7   metabolic  2897 non-null   category\n",
            "dtypes: category(7), float64(1)\n",
            "memory usage: 146.1 KB\n"
          ],
          "name": "stdout"
        }
      ]
    },
    {
      "cell_type": "markdown",
      "metadata": {
        "id": "StbieFtdzB-W"
      },
      "source": [
        "명목형 변수의 분포 살펴보기"
      ]
    },
    {
      "cell_type": "code",
      "metadata": {
        "id": "2IYfhWHnyyPO",
        "colab": {
          "base_uri": "https://localhost:8080/"
        },
        "outputId": "fd8d70e3-40fd-4340-cb1d-bd26b2f99dfa"
      },
      "source": [
        "categorical_feature = df.columns.drop('age')\r\n",
        "categorical_feature"
      ],
      "execution_count": 122,
      "outputs": [
        {
          "output_type": "execute_result",
          "data": {
            "text/plain": [
              "Index(['npins', 'D_1_1', 'DI1_dg', 'BO1', 'BP1', 'BE5_1', 'metabolic'], dtype='object')"
            ]
          },
          "metadata": {
            "tags": []
          },
          "execution_count": 122
        }
      ]
    },
    {
      "cell_type": "code",
      "metadata": {
        "id": "d0aQ-yxrzG7v",
        "colab": {
          "base_uri": "https://localhost:8080/",
          "height": 0
        },
        "outputId": "3fcc0c1c-856f-460e-e046-cdbfd86d0a4f"
      },
      "source": [
        "for col in categorical_feature:\r\n",
        "    df[col].value_counts().plot(kind='bar')\r\n",
        "    plt.title(col)\r\n",
        "    plt.show()"
      ],
      "execution_count": 123,
      "outputs": [
        {
          "output_type": "display_data",
          "data": {
            "image/png": "[encoded data removed]",
            "text/plain": [
              "<Figure size 432x288 with 1 Axes>"
            ]
          },
          "metadata": {
            "tags": [],
            "needs_background": "light"
          }
        },
        {
          "output_type": "display_data",
          "data": {
            "image/png": "[encoded data removed]",
            "text/plain": [
              "<Figure size 432x288 with 1 Axes>"
            ]
          },
          "metadata": {
            "tags": [],
            "needs_background": "light"
          }
        },
        {
          "output_type": "display_data",
          "data": {
            "image/png": "[encoded data removed]",
            "text/plain": [
              "<Figure size 432x288 with 1 Axes>"
            ]
          },
          "metadata": {
            "tags": [],
            "needs_background": "light"
          }
        },
        {
          "output_type": "display_data",
          "data": {
            "image/png": "[encoded data removed]",
            "text/plain": [
              "<Figure size 432x288 with 1 Axes>"
            ]
          },
          "metadata": {
            "tags": [],
            "needs_background": "light"
          }
        },
        {
          "output_type": "display_data",
          "data": {
            "image/png": "[encoded data removed]",
            "text/plain": [
              "<Figure size 432x288 with 1 Axes>"
            ]
          },
          "metadata": {
            "tags": [],
            "needs_background": "light"
          }
        },
        {
          "output_type": "display_data",
          "data": {
            "image/png": "[encoded data removed]",
            "text/plain": [
              "<Figure size 432x288 with 1 Axes>"
            ]
          },
          "metadata": {
            "tags": [],
            "needs_background": "light"
          }
        },
        {
          "output_type": "display_data",
          "data": {
            "image/png": "[encoded data removed]",
            "text/plain": [
              "<Figure size 432x288 with 1 Axes>"
            ]
          },
          "metadata": {
            "tags": [],
            "needs_background": "light"
          }
        }
      ]
    },
    {
      "cell_type": "markdown",
      "metadata": {
        "id": "xvJWPGkozVW2"
      },
      "source": [
        "수치형 변수의 분포 살펴보기"
      ]
    },
    {
      "cell_type": "code",
      "metadata": {
        "id": "UXJWxvjczLzK"
      },
      "source": [
        "# 우선 이와 같이 전체 변수 중에서 범주형 변수와 기타 인덱스 변수, 종속변수들을 제외하고 수치형 변수만 골라냅니다.\r\n",
        "\r\n",
        "numerical_feature = list(set(df.columns) - set(categorical_feature) - set(['인덱스 변수명','범주형 변수']))\r\n",
        "numerical_feature = np.sort(numerical_feature)\r\n",
        "numerical_feature"
      ],
      "execution_count": null,
      "outputs": []
    },
    {
      "cell_type": "code",
      "metadata": {
        "colab": {
          "base_uri": "https://localhost:8080/",
          "height": 0
        },
        "id": "cDmKJKtLxW4Q",
        "outputId": "0d4d31b2-e7ce-4474-c3f9-36427ffce91f"
      },
      "source": [
        "\r\n",
        "sns.distplot(df.loc[df['age'].notnull(), 'age'])\r\n",
        "plt.title('age')\r\n",
        "plt.show()"
      ],
      "execution_count": 121,
      "outputs": [
        {
          "output_type": "stream",
          "text": [
            "/usr/local/lib/python3.6/dist-packages/seaborn/distributions.py:2551: FutureWarning: `distplot` is a deprecated function and will be removed in a future version. Please adapt your code to use either `displot` (a figure-level function with similar flexibility) or `histplot` (an axes-level function for histograms).\n",
            "  warnings.warn(msg, FutureWarning)\n"
          ],
          "name": "stderr"
        },
        {
          "output_type": "display_data",
          "data": {
            "image/png": "[encoded data removed]",
            "text/plain": [
              "<Figure size 432x288 with 1 Axes>"
            ]
          },
          "metadata": {
            "tags": [],
            "needs_background": "light"
          }
        }
      ]
    },
    {
      "cell_type": "markdown",
      "metadata": {
        "id": "xouNqtxO0HVn"
      },
      "source": [
        "# 데이터 전처리"
      ]
    },
    {
      "cell_type": "markdown",
      "metadata": {
        "id": "-qApIp-B0RkE"
      },
      "source": [
        "## 결측치 처리"
      ]
    },
    {
      "cell_type": "code",
      "metadata": {
        "id": "GvUMgQGr0QeJ"
      },
      "source": [
        "# 결측치가 들어있는 행 전체 삭제하기(delete row with NaN) : df.dropna(axis=0)\r\n",
        "df_drop_all = df.dropna(axis=0)"
      ],
      "execution_count": 134,
      "outputs": []
    },
    {
      "cell_type": "code",
      "metadata": {
        "colab": {
          "base_uri": "https://localhost:8080/"
        },
        "id": "yhBR0iltzPM7",
        "outputId": "5bcceede-6b62-411b-8e39-ac54a65b838d"
      },
      "source": [
        "df_drop_all.isnull().sum()"
      ],
      "execution_count": 135,
      "outputs": [
        {
          "output_type": "execute_result",
          "data": {
            "text/plain": [
              "age          0\n",
              "npins        0\n",
              "D_1_1        0\n",
              "DI1_dg       0\n",
              "BO1          0\n",
              "BP1          0\n",
              "BE5_1        0\n",
              "metabolic    0\n",
              "dtype: int64"
            ]
          },
          "metadata": {
            "tags": []
          },
          "execution_count": 135
        }
      ]
    },
    {
      "cell_type": "code",
      "metadata": {
        "colab": {
          "base_uri": "https://localhost:8080/",
          "height": 419
        },
        "id": "CB6ijtDCzg3e",
        "outputId": "2ba86323-3d3f-4b38-d0c0-7fbca8cc8279"
      },
      "source": [
        "df_drop_all"
      ],
      "execution_count": 136,
      "outputs": [
        {
          "output_type": "execute_result",
          "data": {
            "text/html": [
              "<div>\n",
              "<style scoped>\n",
              "    .dataframe tbody tr th:only-of-type {\n",
              "        vertical-align: middle;\n",
              "    }\n",
              "\n",
              "    .dataframe tbody tr th {\n",
              "        vertical-align: top;\n",
              "    }\n",
              "\n",
              "    .dataframe thead th {\n",
              "        text-align: right;\n",
              "    }\n",
              "</style>\n",
              "<table border=\"1\" class=\"dataframe\">\n",
              "  <thead>\n",
              "    <tr style=\"text-align: right;\">\n",
              "      <th></th>\n",
              "      <th>age</th>\n",
              "      <th>npins</th>\n",
              "      <th>D_1_1</th>\n",
              "      <th>DI1_dg</th>\n",
              "      <th>BO1</th>\n",
              "      <th>BP1</th>\n",
              "      <th>BE5_1</th>\n",
              "      <th>metabolic</th>\n",
              "    </tr>\n",
              "  </thead>\n",
              "  <tbody>\n",
              "    <tr>\n",
              "      <th>0</th>\n",
              "      <td>61.0</td>\n",
              "      <td>1.0</td>\n",
              "      <td>3.0</td>\n",
              "      <td>1.0</td>\n",
              "      <td>4.0</td>\n",
              "      <td>4.0</td>\n",
              "      <td>2.0</td>\n",
              "      <td>0.0</td>\n",
              "    </tr>\n",
              "    <tr>\n",
              "      <th>3</th>\n",
              "      <td>39.0</td>\n",
              "      <td>1.0</td>\n",
              "      <td>4.0</td>\n",
              "      <td>0.0</td>\n",
              "      <td>5.0</td>\n",
              "      <td>2.0</td>\n",
              "      <td>1.0</td>\n",
              "      <td>1.0</td>\n",
              "    </tr>\n",
              "    <tr>\n",
              "      <th>8</th>\n",
              "      <td>38.0</td>\n",
              "      <td>1.0</td>\n",
              "      <td>2.0</td>\n",
              "      <td>0.0</td>\n",
              "      <td>4.0</td>\n",
              "      <td>2.0</td>\n",
              "      <td>1.0</td>\n",
              "      <td>0.0</td>\n",
              "    </tr>\n",
              "    <tr>\n",
              "      <th>13</th>\n",
              "      <td>61.0</td>\n",
              "      <td>1.0</td>\n",
              "      <td>2.0</td>\n",
              "      <td>1.0</td>\n",
              "      <td>4.0</td>\n",
              "      <td>4.0</td>\n",
              "      <td>1.0</td>\n",
              "      <td>1.0</td>\n",
              "    </tr>\n",
              "    <tr>\n",
              "      <th>14</th>\n",
              "      <td>49.0</td>\n",
              "      <td>1.0</td>\n",
              "      <td>3.0</td>\n",
              "      <td>0.0</td>\n",
              "      <td>3.0</td>\n",
              "      <td>3.0</td>\n",
              "      <td>1.0</td>\n",
              "      <td>0.0</td>\n",
              "    </tr>\n",
              "    <tr>\n",
              "      <th>...</th>\n",
              "      <td>...</td>\n",
              "      <td>...</td>\n",
              "      <td>...</td>\n",
              "      <td>...</td>\n",
              "      <td>...</td>\n",
              "      <td>...</td>\n",
              "      <td>...</td>\n",
              "      <td>...</td>\n",
              "    </tr>\n",
              "    <tr>\n",
              "      <th>8134</th>\n",
              "      <td>45.0</td>\n",
              "      <td>1.0</td>\n",
              "      <td>3.0</td>\n",
              "      <td>0.0</td>\n",
              "      <td>3.0</td>\n",
              "      <td>4.0</td>\n",
              "      <td>1.0</td>\n",
              "      <td>0.0</td>\n",
              "    </tr>\n",
              "    <tr>\n",
              "      <th>8138</th>\n",
              "      <td>46.0</td>\n",
              "      <td>1.0</td>\n",
              "      <td>2.0</td>\n",
              "      <td>0.0</td>\n",
              "      <td>3.0</td>\n",
              "      <td>3.0</td>\n",
              "      <td>1.0</td>\n",
              "      <td>0.0</td>\n",
              "    </tr>\n",
              "    <tr>\n",
              "      <th>8142</th>\n",
              "      <td>46.0</td>\n",
              "      <td>1.0</td>\n",
              "      <td>1.0</td>\n",
              "      <td>0.0</td>\n",
              "      <td>3.0</td>\n",
              "      <td>3.0</td>\n",
              "      <td>1.0</td>\n",
              "      <td>0.0</td>\n",
              "    </tr>\n",
              "    <tr>\n",
              "      <th>8145</th>\n",
              "      <td>75.0</td>\n",
              "      <td>2.0</td>\n",
              "      <td>2.0</td>\n",
              "      <td>1.0</td>\n",
              "      <td>5.0</td>\n",
              "      <td>4.0</td>\n",
              "      <td>1.0</td>\n",
              "      <td>1.0</td>\n",
              "    </tr>\n",
              "    <tr>\n",
              "      <th>8148</th>\n",
              "      <td>56.0</td>\n",
              "      <td>1.0</td>\n",
              "      <td>3.0</td>\n",
              "      <td>1.0</td>\n",
              "      <td>4.0</td>\n",
              "      <td>2.0</td>\n",
              "      <td>1.0</td>\n",
              "      <td>1.0</td>\n",
              "    </tr>\n",
              "  </tbody>\n",
              "</table>\n",
              "<p>2400 rows × 8 columns</p>\n",
              "</div>"
            ],
            "text/plain": [
              "       age npins D_1_1 DI1_dg  BO1  BP1 BE5_1 metabolic\n",
              "0     61.0   1.0   3.0    1.0  4.0  4.0   2.0       0.0\n",
              "3     39.0   1.0   4.0    0.0  5.0  2.0   1.0       1.0\n",
              "8     38.0   1.0   2.0    0.0  4.0  2.0   1.0       0.0\n",
              "13    61.0   1.0   2.0    1.0  4.0  4.0   1.0       1.0\n",
              "14    49.0   1.0   3.0    0.0  3.0  3.0   1.0       0.0\n",
              "...    ...   ...   ...    ...  ...  ...   ...       ...\n",
              "8134  45.0   1.0   3.0    0.0  3.0  4.0   1.0       0.0\n",
              "8138  46.0   1.0   2.0    0.0  3.0  3.0   1.0       0.0\n",
              "8142  46.0   1.0   1.0    0.0  3.0  3.0   1.0       0.0\n",
              "8145  75.0   2.0   2.0    1.0  5.0  4.0   1.0       1.0\n",
              "8148  56.0   1.0   3.0    1.0  4.0  2.0   1.0       1.0\n",
              "\n",
              "[2400 rows x 8 columns]"
            ]
          },
          "metadata": {
            "tags": []
          },
          "execution_count": 136
        }
      ]
    },
    {
      "cell_type": "code",
      "metadata": {
        "id": "1QAgWDet0ZIX"
      },
      "source": [
        "df = df_drop_all.copy()"
      ],
      "execution_count": 138,
      "outputs": []
    },
    {
      "cell_type": "code",
      "metadata": {
        "colab": {
          "base_uri": "https://localhost:8080/",
          "height": 419
        },
        "id": "Nu5K_vyx0cIf",
        "outputId": "b887ccc3-1456-4ead-c29f-033884d43dd8"
      },
      "source": [
        "df"
      ],
      "execution_count": 139,
      "outputs": [
        {
          "output_type": "execute_result",
          "data": {
            "text/html": [
              "<div>\n",
              "<style scoped>\n",
              "    .dataframe tbody tr th:only-of-type {\n",
              "        vertical-align: middle;\n",
              "    }\n",
              "\n",
              "    .dataframe tbody tr th {\n",
              "        vertical-align: top;\n",
              "    }\n",
              "\n",
              "    .dataframe thead th {\n",
              "        text-align: right;\n",
              "    }\n",
              "</style>\n",
              "<table border=\"1\" class=\"dataframe\">\n",
              "  <thead>\n",
              "    <tr style=\"text-align: right;\">\n",
              "      <th></th>\n",
              "      <th>age</th>\n",
              "      <th>npins</th>\n",
              "      <th>D_1_1</th>\n",
              "      <th>DI1_dg</th>\n",
              "      <th>BO1</th>\n",
              "      <th>BP1</th>\n",
              "      <th>BE5_1</th>\n",
              "      <th>metabolic</th>\n",
              "    </tr>\n",
              "  </thead>\n",
              "  <tbody>\n",
              "    <tr>\n",
              "      <th>0</th>\n",
              "      <td>61.0</td>\n",
              "      <td>1.0</td>\n",
              "      <td>3.0</td>\n",
              "      <td>1.0</td>\n",
              "      <td>4.0</td>\n",
              "      <td>4.0</td>\n",
              "      <td>2.0</td>\n",
              "      <td>0.0</td>\n",
              "    </tr>\n",
              "    <tr>\n",
              "      <th>3</th>\n",
              "      <td>39.0</td>\n",
              "      <td>1.0</td>\n",
              "      <td>4.0</td>\n",
              "      <td>0.0</td>\n",
              "      <td>5.0</td>\n",
              "      <td>2.0</td>\n",
              "      <td>1.0</td>\n",
              "      <td>1.0</td>\n",
              "    </tr>\n",
              "    <tr>\n",
              "      <th>8</th>\n",
              "      <td>38.0</td>\n",
              "      <td>1.0</td>\n",
              "      <td>2.0</td>\n",
              "      <td>0.0</td>\n",
              "      <td>4.0</td>\n",
              "      <td>2.0</td>\n",
              "      <td>1.0</td>\n",
              "      <td>0.0</td>\n",
              "    </tr>\n",
              "    <tr>\n",
              "      <th>13</th>\n",
              "      <td>61.0</td>\n",
              "      <td>1.0</td>\n",
              "      <td>2.0</td>\n",
              "      <td>1.0</td>\n",
              "      <td>4.0</td>\n",
              "      <td>4.0</td>\n",
              "      <td>1.0</td>\n",
              "      <td>1.0</td>\n",
              "    </tr>\n",
              "    <tr>\n",
              "      <th>14</th>\n",
              "      <td>49.0</td>\n",
              "      <td>1.0</td>\n",
              "      <td>3.0</td>\n",
              "      <td>0.0</td>\n",
              "      <td>3.0</td>\n",
              "      <td>3.0</td>\n",
              "      <td>1.0</td>\n",
              "      <td>0.0</td>\n",
              "    </tr>\n",
              "    <tr>\n",
              "      <th>...</th>\n",
              "      <td>...</td>\n",
              "      <td>...</td>\n",
              "      <td>...</td>\n",
              "      <td>...</td>\n",
              "      <td>...</td>\n",
              "      <td>...</td>\n",
              "      <td>...</td>\n",
              "      <td>...</td>\n",
              "    </tr>\n",
              "    <tr>\n",
              "      <th>8134</th>\n",
              "      <td>45.0</td>\n",
              "      <td>1.0</td>\n",
              "      <td>3.0</td>\n",
              "      <td>0.0</td>\n",
              "      <td>3.0</td>\n",
              "      <td>4.0</td>\n",
              "      <td>1.0</td>\n",
              "      <td>0.0</td>\n",
              "    </tr>\n",
              "    <tr>\n",
              "      <th>8138</th>\n",
              "      <td>46.0</td>\n",
              "      <td>1.0</td>\n",
              "      <td>2.0</td>\n",
              "      <td>0.0</td>\n",
              "      <td>3.0</td>\n",
              "      <td>3.0</td>\n",
              "      <td>1.0</td>\n",
              "      <td>0.0</td>\n",
              "    </tr>\n",
              "    <tr>\n",
              "      <th>8142</th>\n",
              "      <td>46.0</td>\n",
              "      <td>1.0</td>\n",
              "      <td>1.0</td>\n",
              "      <td>0.0</td>\n",
              "      <td>3.0</td>\n",
              "      <td>3.0</td>\n",
              "      <td>1.0</td>\n",
              "      <td>0.0</td>\n",
              "    </tr>\n",
              "    <tr>\n",
              "      <th>8145</th>\n",
              "      <td>75.0</td>\n",
              "      <td>2.0</td>\n",
              "      <td>2.0</td>\n",
              "      <td>1.0</td>\n",
              "      <td>5.0</td>\n",
              "      <td>4.0</td>\n",
              "      <td>1.0</td>\n",
              "      <td>1.0</td>\n",
              "    </tr>\n",
              "    <tr>\n",
              "      <th>8148</th>\n",
              "      <td>56.0</td>\n",
              "      <td>1.0</td>\n",
              "      <td>3.0</td>\n",
              "      <td>1.0</td>\n",
              "      <td>4.0</td>\n",
              "      <td>2.0</td>\n",
              "      <td>1.0</td>\n",
              "      <td>1.0</td>\n",
              "    </tr>\n",
              "  </tbody>\n",
              "</table>\n",
              "<p>2400 rows × 8 columns</p>\n",
              "</div>"
            ],
            "text/plain": [
              "       age npins D_1_1 DI1_dg  BO1  BP1 BE5_1 metabolic\n",
              "0     61.0   1.0   3.0    1.0  4.0  4.0   2.0       0.0\n",
              "3     39.0   1.0   4.0    0.0  5.0  2.0   1.0       1.0\n",
              "8     38.0   1.0   2.0    0.0  4.0  2.0   1.0       0.0\n",
              "13    61.0   1.0   2.0    1.0  4.0  4.0   1.0       1.0\n",
              "14    49.0   1.0   3.0    0.0  3.0  3.0   1.0       0.0\n",
              "...    ...   ...   ...    ...  ...  ...   ...       ...\n",
              "8134  45.0   1.0   3.0    0.0  3.0  4.0   1.0       0.0\n",
              "8138  46.0   1.0   2.0    0.0  3.0  3.0   1.0       0.0\n",
              "8142  46.0   1.0   1.0    0.0  3.0  3.0   1.0       0.0\n",
              "8145  75.0   2.0   2.0    1.0  5.0  4.0   1.0       1.0\n",
              "8148  56.0   1.0   3.0    1.0  4.0  2.0   1.0       1.0\n",
              "\n",
              "[2400 rows x 8 columns]"
            ]
          },
          "metadata": {
            "tags": []
          },
          "execution_count": 139
        }
      ]
    },
    {
      "cell_type": "markdown",
      "metadata": {
        "id": "SmD7xw_506My"
      },
      "source": [
        "결측치가 들어있는 행 전체, 혹은 열 전체를 삭제하는 것(완전 제거법)은 데이터 소실, 혹은 데\r\n",
        "이터 모집단 왜곡의 위험이 있음"
      ]
    },
    {
      "cell_type": "markdown",
      "metadata": {
        "id": "OWsTpO0-3QAD"
      },
      "source": [
        "결측치 처리 후 확인"
      ]
    },
    {
      "cell_type": "code",
      "metadata": {
        "id": "4_eriBg23RoH",
        "colab": {
          "base_uri": "https://localhost:8080/"
        },
        "outputId": "a8bf7c4a-a59d-4d54-a482-b06d7a61b5aa"
      },
      "source": [
        "df_col.isnull().sum()"
      ],
      "execution_count": 129,
      "outputs": [
        {
          "output_type": "execute_result",
          "data": {
            "text/plain": [
              "age            0\n",
              "npins         19\n",
              "D_1_1        121\n",
              "DI1_dg       344\n",
              "BO1           41\n",
              "BP1          119\n",
              "BE5_1        211\n",
              "metabolic      0\n",
              "dtype: int64"
            ]
          },
          "metadata": {
            "tags": []
          },
          "execution_count": 129
        }
      ]
    },
    {
      "cell_type": "markdown",
      "metadata": {
        "id": "4bbE6cmyiW6b"
      },
      "source": [
        "결측치 관련 작성할 거\r\n",
        "- 결측치는 분석결과의 편향이나 통계적 검정력의 문제를 일으킨다. 이에 연구결과가 모집단의 특성을 대표하지 못하는 자료에 의존하는 문제점이 발생할 수 있다. 결측치를 보완하는 가장 완벽한 방법은 모름 및 무응답자들에 대한 재설문조사이지만 이는 시간과 비용이 많이 든다는 단점이 있다. \r\n",
        "완전제거법의 경우, 실제 설문자료를 분석하여 완전제거법을 적용하여 분석하는 경우에 평균 및 분산과 같은 기술통계치 문제, 변수 간 관계를 분석하는 회귀분석의 결과에도 영향을 미침. \r\n",
        "단일 대체법은 평균값, 중앙값, 최빈값 대체 등을 통해 완전한 데이터셋을 구성할 수 있다는 장점이 있으나 대부분 편의추정량을 발생시키는 것으로 알려짐. 추정량의 또한 결측치를 하나의 값으로 대체하기 때문에 표준오차가 과소추정 되는 문제가 있음. 특히 평균대체법은 결측된 변수의 분산을 작게 하는 문제와 함께 다른 변수와의 상관관계를 낮추는 등 분석결과의 편의를 가져옴. (고길곤 외 1인, 2016)\r\n",
        "따라서 완전제거법과 단일대체법과 같은 전통적 결측치 처리방법보다 발전된 다중대체법을 사용하거나 시간과 비용의 문제를 해결 가능하다면 재조사법을 이용하여 결측치를 처리한 후 분석을 수행하면 분석 결과의 타당성이 향상될 것으로 예상됨."
      ]
    },
    {
      "cell_type": "markdown",
      "metadata": {
        "id": "2g8oYjgM3Okq"
      },
      "source": [
        "## 이상치 처리 ( 1사분위수 - 1.5IQR 미만 또는 3사분위수 + 1.5IQR 초과를 이상치로 판단하고 제거 )"
      ]
    },
    {
      "cell_type": "markdown",
      "metadata": {
        "id": "pI-nWOYJ5syK"
      },
      "source": [
        "Numerical 변수에만 적용하기!"
      ]
    },
    {
      "cell_type": "code",
      "metadata": {
        "id": "yucF14Tm5irK"
      },
      "source": [
        "def remove_outlier(d_cp, column):\r\n",
        "    fraud_column_data = d_cp[column]\r\n",
        "    quan_25 = np.percentile(fraud_column_data, 25)\r\n",
        "    quan_75 = np.percentile(fraud_column_data, 75)\r\n",
        "    \r\n",
        "    iqr = quan_75 - quan_25\r\n",
        "    iqr = iqr * 1.5\r\n",
        "    lowest = quan_25 - iqr\r\n",
        "    highest = quan_75 + iqr\r\n",
        "    outlier_index = fraud_column_data[(fraud_column_data<lowest) | (fraud_column_data > highest)].index\r\n",
        "    d_cp.drop(outlier_index, axis=0, inplace=True)\r\n",
        "    return d_cp"
      ],
      "execution_count": 137,
      "outputs": []
    },
    {
      "cell_type": "code",
      "metadata": {
        "id": "TMeShxhd5xTk",
        "colab": {
          "base_uri": "https://localhost:8080/"
        },
        "outputId": "af8207d7-4a99-41ce-805a-364d6fee72b4"
      },
      "source": [
        "# 이상치 제거 예시\r\n",
        "print(df.shape)\r\n",
        "df = remove_outlier(df, 'age')\r\n",
        "df = remove_outlier(df, 'age')\r\n",
        "print(df.shape)"
      ],
      "execution_count": 140,
      "outputs": [
        {
          "output_type": "stream",
          "text": [
            "(2400, 8)\n",
            "(2400, 8)\n"
          ],
          "name": "stdout"
        }
      ]
    },
    {
      "cell_type": "code",
      "metadata": {
        "id": "BlcSomPf5jxg"
      },
      "source": [
        ""
      ],
      "execution_count": null,
      "outputs": []
    },
    {
      "cell_type": "markdown",
      "metadata": {
        "id": "1TnW0cQq3UD4"
      },
      "source": [
        "## Train/Test Set 나누기, 업샘플링, 스케일링 ( 스케일링은 로지스틱 회귀분석이나 랜덤 포레스트 사용 시 적용 X )\r\n"
      ]
    },
    {
      "cell_type": "markdown",
      "metadata": {
        "id": "_SVw9zB33aDd"
      },
      "source": [
        "데이터의 스케일(측정단위)이 다를 경우 특히 거리를 기반으로 분류하는 모델(KNN, SVM 등)에 부정적인 영향을 미치므로, 스케일링을 통해 단위를 일정하게 맞추는 작업을 진행해야 한다."
      ]
    },
    {
      "cell_type": "markdown",
      "metadata": {
        "id": "wBcS_UG23j2z"
      },
      "source": [
        "MinMax Scaling: 특정 범위 (0~1)로 모든 데이터를 변환"
      ]
    },
    {
      "cell_type": "code",
      "metadata": {
        "id": "0ZTVeJko3TFw"
      },
      "source": [
        "def train_test_split_and_upsample(df_input, scaling):\r\n",
        "    \r\n",
        "    df = df_input.copy()\r\n",
        "    \r\n",
        "    df = df.astype('category')\r\n",
        "    df['age'] = df['age'].astype('float64')  # 연속형인 변수들 다시 float64로 처리 \r\n",
        "    \r\n",
        "    df_class_0 = df[df['metabolic'] == 0]  #metabolic 값이 0인 데이터들\r\n",
        "    df_class_1 = df[df['metabolic'] == 1]  #metabolic 값이 1인 데이터들 ( 타겟 어트리뷰트 = 1인 인스턴스가 적은 상황)\r\n",
        "    \r\n",
        "    df_class_1_over = df_class_1.sample(df_class_0.shape[0], replace=True, random_state=10)\r\n",
        "    df_over = pd.concat([df_class_0, df_class_1_over], axis=0)\r\n",
        "    \r\n",
        "    feature_columns = list(df.columns.difference(['metabolic'])) # 타겟 어트리뷰트는 제외하고 X에 할당 \r\n",
        "    X = df[feature_columns]\r\n",
        "    y = df[['metabolic']]\r\n",
        "    \r\n",
        "    X_up = df_over[feature_columns]\r\n",
        "    y_up = df_over[['metabolic']]\r\n",
        "    \r\n",
        "    from sklearn.model_selection import train_test_split\r\n",
        "    from sklearn import preprocessing\r\n",
        "    # Train / Test 비율 = 0.7:0.3, 층화추출 사용\r\n",
        "    train_x, test_x, train_y, test_y = train_test_split(X, y, test_size = 0.3, random_state = 0, stratify = y) \r\n",
        "    train_x_up, test_x_up, train_y_up, test_y_up = train_test_split(X_up, y_up, test_size = 0.3, random_state = 0, stratify = y_up)\r\n",
        "    \r\n",
        "    train_x = train_x.reset_index().iloc[:,1:]\r\n",
        "    tmp2 = train_x.loc[:,['age']]\r\n",
        "    train_x = train_x.drop(['age'], axis=1)\r\n",
        "    train_x = pd.concat([train_x, tmp2], axis=1)\r\n",
        "\r\n",
        "    test_x = test_x.reset_index().iloc[:,1:]\r\n",
        "    tmp2 = test_x.loc[:,['age']]\r\n",
        "    test_x = test_x.drop(['age'], axis=1)\r\n",
        "    test_x = pd.concat([test_x, tmp2], axis=1)\r\n",
        "\r\n",
        "    train_y = train_y.reset_index().iloc[:,1:]\r\n",
        "    \r\n",
        "    test_y = test_y.reset_index().iloc[:,1:]\r\n",
        "    \r\n",
        "    train_x_up = train_x_up.reset_index().iloc[:,1:]\r\n",
        "    tmp2 = train_x_up.loc[:,['age']]\r\n",
        "    train_x_up = train_x_up.drop(['age'], axis=1)\r\n",
        "    train_x_up = pd.concat([train_x_up, tmp2], axis=1)\r\n",
        "\r\n",
        "    train_y_up = train_y_up.reset_index().iloc[:,1:]\r\n",
        "    \r\n",
        "    # 최소값(Min)과 최대값(Max)을 사용해서 '0~1' 사이의 범위(range)로 데이터를 표준화해주는 '0~1 변환 사용 (MinMaxScaler())\r\n",
        "    \r\n",
        "    if scaling == True: \r\n",
        "        min_max_scaler = preprocessing.MinMaxScaler()\r\n",
        "        temp = min_max_scaler.fit_transform(train_x.loc[:,['age']])\r\n",
        "        temp = pd.DataFrame(temp, columns = ['age'])\r\n",
        "        train_x = train_x.drop(['age'], axis=1)\r\n",
        "        train_x = pd.concat([train_x, temp], axis=1)\r\n",
        "\r\n",
        "        min_max_scaler = preprocessing.MinMaxScaler()\r\n",
        "        temp = min_max_scaler.fit_transform(test_x.loc[:,['age']])\r\n",
        "        temp = pd.DataFrame(temp, columns = ['age'])\r\n",
        "        test_x = test_x.drop(['age'], axis=1)\r\n",
        "        test_x = pd.concat([test_x, temp], axis=1)\r\n",
        "\r\n",
        "        min_max_scaler = preprocessing.MinMaxScaler()\r\n",
        "        temp = min_max_scaler.fit_transform(train_x_up.loc[:,['age']])\r\n",
        "        temp = pd.DataFrame(temp, columns = ['age'])\r\n",
        "        train_x_up = train_x_up.drop(['age'], axis=1)\r\n",
        "        train_x_up = pd.concat([train_x_up, temp], axis=1)    \r\n",
        "\r\n",
        "    return train_x, test_x, train_y, test_y, train_x_up, train_y_up"
      ],
      "execution_count": 143,
      "outputs": []
    },
    {
      "cell_type": "code",
      "metadata": {
        "id": "b37yvFPS8Y3o"
      },
      "source": [
        "# Train / Test Data Set 생성\r\n",
        "\r\n",
        "tmp = train_test_split_and_upsample(df, scaling=False)  # 로지스틱 회귀분석이나 랜덤 포레스트 사용시 scaling = False\r\n",
        "train_x = tmp[0]\r\n",
        "train_y = tmp[2]\r\n",
        "test_x = tmp[1]\r\n",
        "test_y = tmp[3]\r\n",
        "train_x_up = tmp[4]\r\n",
        "train_y_up = tmp[5]"
      ],
      "execution_count": 145,
      "outputs": []
    },
    {
      "cell_type": "code",
      "metadata": {
        "id": "y2hkozCrNQlJ",
        "colab": {
          "base_uri": "https://localhost:8080/"
        },
        "outputId": "f0f00f26-85db-49d5-bb18-e6f7d19994e9"
      },
      "source": [
        "# 트레이닝 셋, 테스트 셋 확인\r\n",
        "print(train_x)\r\n",
        "print(train_y.metabolic.value_counts())"
      ],
      "execution_count": 146,
      "outputs": [
        {
          "output_type": "stream",
          "text": [
            "     BE5_1  BO1  BP1 DI1_dg D_1_1 npins   age\n",
            "0      1.0  5.0  2.0    0.0   4.0   1.0  39.0\n",
            "1      1.0  2.0  3.0    0.0   2.0   1.0  32.0\n",
            "2      1.0  3.0  4.0    0.0   3.0   1.0  71.0\n",
            "3      1.0  3.0  2.0    0.0   3.0   1.0  66.0\n",
            "4      1.0  3.0  3.0    0.0   3.0   2.0  80.0\n",
            "...    ...  ...  ...    ...   ...   ...   ...\n",
            "1675   6.0  4.0  3.0    0.0   2.0   1.0  27.0\n",
            "1676   1.0  3.0  3.0    0.0   3.0   2.0  53.0\n",
            "1677   1.0  4.0  3.0    0.0   3.0   2.0  63.0\n",
            "1678   1.0  4.0  2.0    0.0   2.0   1.0  28.0\n",
            "1679   1.0  2.0  3.0    0.0   3.0   1.0  26.0\n",
            "\n",
            "[1680 rows x 7 columns]\n",
            "0.0    1150\n",
            "1.0     530\n",
            "Name: metabolic, dtype: int64\n"
          ],
          "name": "stdout"
        }
      ]
    },
    {
      "cell_type": "code",
      "metadata": {
        "id": "3xxs5R71NUym",
        "colab": {
          "base_uri": "https://localhost:8080/",
          "height": 419
        },
        "outputId": "817db0c7-e463-4e37-f8fb-82dd18f46215"
      },
      "source": [
        "train_y"
      ],
      "execution_count": 147,
      "outputs": [
        {
          "output_type": "execute_result",
          "data": {
            "text/html": [
              "<div>\n",
              "<style scoped>\n",
              "    .dataframe tbody tr th:only-of-type {\n",
              "        vertical-align: middle;\n",
              "    }\n",
              "\n",
              "    .dataframe tbody tr th {\n",
              "        vertical-align: top;\n",
              "    }\n",
              "\n",
              "    .dataframe thead th {\n",
              "        text-align: right;\n",
              "    }\n",
              "</style>\n",
              "<table border=\"1\" class=\"dataframe\">\n",
              "  <thead>\n",
              "    <tr style=\"text-align: right;\">\n",
              "      <th></th>\n",
              "      <th>metabolic</th>\n",
              "    </tr>\n",
              "  </thead>\n",
              "  <tbody>\n",
              "    <tr>\n",
              "      <th>0</th>\n",
              "      <td>1.0</td>\n",
              "    </tr>\n",
              "    <tr>\n",
              "      <th>1</th>\n",
              "      <td>0.0</td>\n",
              "    </tr>\n",
              "    <tr>\n",
              "      <th>2</th>\n",
              "      <td>0.0</td>\n",
              "    </tr>\n",
              "    <tr>\n",
              "      <th>3</th>\n",
              "      <td>0.0</td>\n",
              "    </tr>\n",
              "    <tr>\n",
              "      <th>4</th>\n",
              "      <td>0.0</td>\n",
              "    </tr>\n",
              "    <tr>\n",
              "      <th>...</th>\n",
              "      <td>...</td>\n",
              "    </tr>\n",
              "    <tr>\n",
              "      <th>1675</th>\n",
              "      <td>1.0</td>\n",
              "    </tr>\n",
              "    <tr>\n",
              "      <th>1676</th>\n",
              "      <td>0.0</td>\n",
              "    </tr>\n",
              "    <tr>\n",
              "      <th>1677</th>\n",
              "      <td>1.0</td>\n",
              "    </tr>\n",
              "    <tr>\n",
              "      <th>1678</th>\n",
              "      <td>0.0</td>\n",
              "    </tr>\n",
              "    <tr>\n",
              "      <th>1679</th>\n",
              "      <td>0.0</td>\n",
              "    </tr>\n",
              "  </tbody>\n",
              "</table>\n",
              "<p>1680 rows × 1 columns</p>\n",
              "</div>"
            ],
            "text/plain": [
              "     metabolic\n",
              "0          1.0\n",
              "1          0.0\n",
              "2          0.0\n",
              "3          0.0\n",
              "4          0.0\n",
              "...        ...\n",
              "1675       1.0\n",
              "1676       0.0\n",
              "1677       1.0\n",
              "1678       0.0\n",
              "1679       0.0\n",
              "\n",
              "[1680 rows x 1 columns]"
            ]
          },
          "metadata": {
            "tags": []
          },
          "execution_count": 147
        }
      ]
    },
    {
      "cell_type": "code",
      "metadata": {
        "id": "u9YPuJuTNePf",
        "colab": {
          "base_uri": "https://localhost:8080/"
        },
        "outputId": "004a2aa5-cd3f-49dd-ed7c-0396e047a203"
      },
      "source": [
        "print(test_x.shape)\r\n",
        "print(test_y.shape)"
      ],
      "execution_count": 148,
      "outputs": [
        {
          "output_type": "stream",
          "text": [
            "(720, 7)\n",
            "(720, 1)\n"
          ],
          "name": "stdout"
        }
      ]
    },
    {
      "cell_type": "code",
      "metadata": {
        "id": "KHrJXJqXNXWm",
        "colab": {
          "base_uri": "https://localhost:8080/"
        },
        "outputId": "30e0f7d8-73a5-45f4-9598-8ffaa092da51"
      },
      "source": [
        "print(train_y_up.metabolic.value_counts())"
      ],
      "execution_count": 150,
      "outputs": [
        {
          "output_type": "stream",
          "text": [
            "1.0    1150\n",
            "0.0    1150\n",
            "Name: metabolic, dtype: int64\n"
          ],
          "name": "stdout"
        }
      ]
    },
    {
      "cell_type": "markdown",
      "metadata": {
        "id": "rz9mYlyU8WUK"
      },
      "source": [
        "업샘플링 하는 이유: 지도 학습 시, Class Imbalance 문제를 해결하기 위해 사용"
      ]
    },
    {
      "cell_type": "markdown",
      "metadata": {
        "id": "h5b2V1zZ7vZY"
      },
      "source": [
        "# Modeling & Evaluation"
      ]
    },
    {
      "cell_type": "code",
      "metadata": {
        "id": "s0fbIyjx8Qim"
      },
      "source": [
        "# Performance Measure 출력 함수 만들기\r\n",
        "from sklearn.metrics import confusion_matrix\r\n",
        "from sklearn.metrics import accuracy_score\r\n",
        "from sklearn.metrics import roc_auc_score\r\n",
        "\r\n",
        "def model_evaluation(label, predict):\r\n",
        "    cf_matrix = confusion_matrix(label, predict)\r\n",
        "    Accuracy = (cf_matrix[0][0] + cf_matrix[1][1]) / sum(sum(cf_matrix))\r\n",
        "    Precision = cf_matrix[1][1] / (cf_matrix[1][1] + cf_matrix[0][1])\r\n",
        "    Recall = cf_matrix[1][1] / (cf_matrix[1][1] + cf_matrix[1][0])\r\n",
        "    Specificity = cf_matrix[0][0] / (cf_matrix[0][0] + cf_matrix[0][1])\r\n",
        "    F1_Score = (2 * Recall * Precision) / (Recall + Precision)\r\n",
        "    F2_Score = (5 * Recall * Precision) / (Recall + 4*Precision) # Recall을 Precision보다 2배 중요하게 생각하여 F2 Score 사용\r\n",
        "    \r\n",
        "    print(\"Accuracy: \", Accuracy) \r\n",
        "    print(\"Precision: \", Precision)\r\n",
        "    print(\"Recall: \", Recall)\r\n",
        "    print(\"Specificity: \", Specificity)\r\n",
        "    print(\"F1_Score: \", F1_Score)\r\n",
        "    print(\"F2_Score: \", F2_Score)"
      ],
      "execution_count": 151,
      "outputs": []
    },
    {
      "cell_type": "markdown",
      "metadata": {
        "id": "jWsMtD4H9T9f"
      },
      "source": [
        "## Random Forest"
      ]
    },
    {
      "cell_type": "code",
      "metadata": {
        "id": "U9GkTAA97wYX",
        "colab": {
          "base_uri": "https://localhost:8080/"
        },
        "outputId": "2f96b4be-1e04-4805-e0d5-aedb229d3989"
      },
      "source": [
        "# 랜덤 포레스트 그리드 서치\r\n",
        "from sklearn.ensemble import RandomForestClassifier\r\n",
        "from sklearn.model_selection import KFold, GridSearchCV\r\n",
        "\r\n",
        "#최적 파라미터 값 찾기 \r\n",
        "params = { 'n_estimators' : [5, 10, 50],\r\n",
        "           'max_depth' : [8, 10, 12, 14],\r\n",
        "           'min_samples_leaf' : [5, 15, 25],\r\n",
        "           'min_samples_split' : [5, 15, 25]\r\n",
        "            }\r\n",
        "rf_clf = RandomForestClassifier(random_state = 0, n_jobs = -1)\r\n",
        "grid_cv = GridSearchCV(rf_clf, param_grid = params, cv = 5, n_jobs = -1, scoring = 'f1') # scoring = 'accuracy', 'f1', 'roc_auc' 등 가능  # n_jobs = 병렬 처리갯수 (-1은 전부 사용)\r\n",
        "grid_cv.fit(train_x_up, train_y_up)"
      ],
      "execution_count": 167,
      "outputs": [
        {
          "output_type": "stream",
          "text": [
            "/usr/local/lib/python3.6/dist-packages/sklearn/model_selection/_search.py:739: DataConversionWarning: A column-vector y was passed when a 1d array was expected. Please change the shape of y to (n_samples,), for example using ravel().\n",
            "  self.best_estimator_.fit(X, y, **fit_params)\n"
          ],
          "name": "stderr"
        },
        {
          "output_type": "execute_result",
          "data": {
            "text/plain": [
              "GridSearchCV(cv=5, error_score=nan,\n",
              "             estimator=RandomForestClassifier(bootstrap=True, ccp_alpha=0.0,\n",
              "                                              class_weight=None,\n",
              "                                              criterion='gini', max_depth=None,\n",
              "                                              max_features='auto',\n",
              "                                              max_leaf_nodes=None,\n",
              "                                              max_samples=None,\n",
              "                                              min_impurity_decrease=0.0,\n",
              "                                              min_impurity_split=None,\n",
              "                                              min_samples_leaf=1,\n",
              "                                              min_samples_split=2,\n",
              "                                              min_weight_fraction_leaf=0.0,\n",
              "                                              n_estimators=100, n_jobs=-1,\n",
              "                                              oob_score=False, random_state=0,\n",
              "                                              verbose=0, warm_start=False),\n",
              "             iid='deprecated', n_jobs=-1,\n",
              "             param_grid={'max_depth': [8, 10, 12, 14],\n",
              "                         'min_samples_leaf': [5, 15, 25],\n",
              "                         'min_samples_split': [5, 15, 25],\n",
              "                         'n_estimators': [5, 10, 50]},\n",
              "             pre_dispatch='2*n_jobs', refit=True, return_train_score=False,\n",
              "             scoring='f1', verbose=0)"
            ]
          },
          "metadata": {
            "tags": []
          },
          "execution_count": 167
        }
      ]
    },
    {
      "cell_type": "code",
      "metadata": {
        "colab": {
          "base_uri": "https://localhost:8080/"
        },
        "id": "NGJirnzRJ1-W",
        "outputId": "b46e78c1-5945-4afd-d2d9-332dc05e73ee"
      },
      "source": [
        "# 모델 Evaluation\r\n",
        "predicted = grid_cv.predict(test_x)\r\n",
        "print(confusion_matrix(test_y, predicted))\r\n",
        "print(model_evaluation(test_y, predicted))\r\n",
        "\r\n",
        "print('최적 하이퍼 파라미터: ', grid_cv.best_params_)\r\n",
        "print('최고 Score: {:.4f}'.format(grid_cv.best_score_))"
      ],
      "execution_count": 168,
      "outputs": [
        {
          "output_type": "stream",
          "text": [
            "[[357 136]\n",
            " [ 57 170]]\n",
            "Accuracy:  0.7319444444444444\n",
            "Precision:  0.5555555555555556\n",
            "Recall:  0.748898678414097\n",
            "Specificity:  0.7241379310344828\n",
            "F1_Score:  0.6378986866791745\n",
            "F2_Score:  0.700164744645799\n",
            "None\n",
            "최적 하이퍼 파라미터:  {'max_depth': 14, 'min_samples_leaf': 5, 'min_samples_split': 5, 'n_estimators': 50}\n",
            "최고 Score: 0.7246\n"
          ],
          "name": "stdout"
        }
      ]
    },
    {
      "cell_type": "code",
      "metadata": {
        "colab": {
          "base_uri": "https://localhost:8080/"
        },
        "id": "yJgUOIRu_IKS",
        "outputId": "472c5dea-d18d-4059-8908-6d37f598b942"
      },
      "source": [
        "test_y.value_counts()"
      ],
      "execution_count": 169,
      "outputs": [
        {
          "output_type": "execute_result",
          "data": {
            "text/plain": [
              "metabolic\n",
              "0.0          493\n",
              "1.0          227\n",
              "dtype: int64"
            ]
          },
          "metadata": {
            "tags": []
          },
          "execution_count": 169
        }
      ]
    },
    {
      "cell_type": "code",
      "metadata": {
        "colab": {
          "base_uri": "https://localhost:8080/",
          "height": 285
        },
        "id": "vqvJhJhQ9acV",
        "outputId": "f25d82e0-5a81-4e51-ae58-de312ff5d621"
      },
      "source": [
        "# 랜덤 포레스트 중요 변수 시각화\r\n",
        "\r\n",
        "from sklearn.inspection import permutation_importance\r\n",
        "import matplotlib.pyplot as plt\r\n",
        "result = permutation_importance(grid_cv, train_x, train_y, n_repeats=10,\r\n",
        "                                random_state=42, n_jobs=2)\r\n",
        "sorted_idx = result.importances_mean.argsort()\r\n",
        "\r\n",
        "plt.barh(train_x.columns[sorted_idx], sorted(result.importances_mean))\r\n",
        "plt.title('Permutation Importance', fontsize=18)\r\n",
        "plt.ylabel('Feature name', fontsize=15)\r\n",
        "plt.show()"
      ],
      "execution_count": 161,
      "outputs": [
        {
          "output_type": "display_data",
          "data": {
            "image/png": "[encoded data removed]",
            "text/plain": [
              "<Figure size 432x288 with 1 Axes>"
            ]
          },
          "metadata": {
            "tags": [],
            "needs_background": "light"
          }
        }
      ]
    }
  ]
}